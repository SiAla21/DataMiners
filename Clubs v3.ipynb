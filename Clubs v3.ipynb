{
  "cells": [
    {
      "cell_type": "markdown",
      "metadata": {
        "id": "l7XaENk9NpaZ"
      },
      "source": [
        "# Introduction"
      ]
    },
    {
      "cell_type": "markdown",
      "metadata": {
        "id": "FbWVBF94Nyrv"
      },
      "source": [
        "# Iniatial"
      ]
    },
    {
      "cell_type": "markdown",
      "metadata": {
        "id": "U423R1M0N60U"
      },
      "source": [
        "1. Import Necessary Libraries\n"
      ]
    },
    {
      "cell_type": "code",
      "execution_count": null,
      "metadata": {
        "id": "CfslPi8eNhqt"
      },
      "outputs": [],
      "source": [
        "import pandas as pd\n",
        "import numpy as np\n",
        "import matplotlib.pyplot as plt\n",
        "import seaborn as sns"
      ]
    },
    {
      "cell_type": "markdown",
      "metadata": {
        "id": "hFZIF0wHN-Ei"
      },
      "source": [
        "2. Load the Datasets\n"
      ]
    },
    {
      "cell_type": "code",
      "execution_count": null,
      "metadata": {
        "id": "ArKmCQTkOJGL"
      },
      "outputs": [],
      "source": [
        "all_leagues = pd.read_csv('clubs_n.csv')\n",
        "players_df = pd.read_csv('/content/playerss.csv')\n",
        "doctors_df = pd.read_csv('doctorsRa.csv')\n",
        "coachs_df = pd.read_csv('cleaned_coaches (1).csv')\n",
        "analyst_df = pd.read_csv('DataAnalyst_Modified.csv')"
      ]
    },
    {
      "cell_type": "markdown",
      "metadata": {
        "id": "wzetFZPhOmJr"
      },
      "source": [
        "# 3. Data Preprocessing"
      ]
    },
    {
      "cell_type": "code",
      "execution_count": null,
      "metadata": {
        "id": "vzUOMbKjO3Ou"
      },
      "outputs": [],
      "source": [
        "# Standardize column names\n",
        "def standardize_column_names(df):\n",
        "    df.columns = df.columns.str.replace('possession(%)', 'possession(%)')\n",
        "    df.columns = df.columns.str.replace('pass_accuracy(%)', 'pass_accuracy(%)')\n",
        "    return df\n",
        "\n",
        "all_leagues = standardize_column_names(all_leagues)\n",
        "\n",
        "# Handle missing values\n",
        "def handle_missing_values(df):\n",
        "    num_cols = df.select_dtypes(include=['float64', 'int64']).columns\n",
        "    cat_cols = df.select_dtypes(include=['object']).columns\n",
        "\n",
        "    df[num_cols] = df[num_cols].fillna(df[num_cols].median())\n",
        "    df[cat_cols] = df[cat_cols].fillna(df[cat_cols].mode().iloc[0])\n",
        "    return df\n",
        "\n",
        "all_leagues = handle_missing_values(all_leagues)\n",
        "\n",
        "# Remove duplicates\n",
        "all_leagues = all_leagues.drop_duplicates()"
      ]
    },
    {
      "cell_type": "markdown",
      "metadata": {
        "id": "Y_aKSKfpO5ck"
      },
      "source": [
        "#4. Data Understanding\n"
      ]
    },
    {
      "cell_type": "code",
      "execution_count": null,
      "metadata": {
        "colab": {
          "base_uri": "https://localhost:8080/"
        },
        "id": "qL1SSCT6uNAw",
        "outputId": "6140c147-b6c1-43d6-a122-aef0c5c1f9c5"
      },
      "outputs": [
        {
          "output_type": "stream",
          "name": "stdout",
          "text": [
            "🔹 Missing Data in Clubs Dataset After Imputation:\n",
            "Series([], dtype: int64)\n"
          ]
        }
      ],
      "source": [
        "# Drop the 'total_market_value' column\n",
        "all_leagues = all_leagues.drop(columns=['total_market_value','coach_name','club_standardized_y','url','filename'])\n",
        "# Impute missing values in clubs dataset\n",
        "all_leagues['average_age'] = all_leagues['average_age'].fillna(all_leagues['average_age'].mean())\n",
        "all_leagues['foreigners_percentage'] = all_leagues['foreigners_percentage'].fillna(all_leagues['foreigners_percentage'].mean())\n",
        "\n",
        "# Verify the result\n",
        "missing_club_data_after = all_leagues.isna().sum()\n",
        "print(\"🔹 Missing Data in Clubs Dataset After Imputation:\")\n",
        "print(missing_club_data_after[missing_club_data_after > 0])"
      ]
    },
    {
      "cell_type": "code",
      "execution_count": null,
      "metadata": {
        "colab": {
          "base_uri": "https://localhost:8080/"
        },
        "id": "61HgEMT488BQ",
        "outputId": "a44e0b08-9522-4bcb-bc1b-be2fafa2cc17"
      },
      "outputs": [
        {
          "output_type": "stream",
          "name": "stdout",
          "text": [
            "0\n"
          ]
        }
      ],
      "source": [
        "# Check for missing values\n",
        "print(players_df.isnull().sum().sum())"
      ]
    },
    {
      "cell_type": "code",
      "execution_count": null,
      "metadata": {
        "colab": {
          "base_uri": "https://localhost:8080/"
        },
        "id": "QtUMLK0B876J",
        "outputId": "42db4bf3-d3d6-4c8b-d27e-5822322c240e"
      },
      "outputs": [
        {
          "output_type": "execute_result",
          "data": {
            "text/plain": [
              "np.int64(0)"
            ]
          },
          "metadata": {},
          "execution_count": 155
        }
      ],
      "source": [
        "# Step 1: Identify the percentage of missing values per column\n",
        "missing_percentage = players_df.isnull().mean() * 100\n",
        "\n",
        "# Step 2: Drop columns with more than 50% missing values\n",
        "cols_to_drop = missing_percentage[missing_percentage > 50].index\n",
        "players_df.drop(columns=cols_to_drop, inplace=True)\n",
        "\n",
        "# Step 3: Separate numerical and categorical columns\n",
        "numerical_cols = players_df.select_dtypes(include='number').columns\n",
        "categorical_cols = players_df.select_dtypes(include='object').columns\n",
        "\n",
        "# Step 4: Impute numerical columns with median\n",
        "for col in numerical_cols:\n",
        "    if players_df[col].isnull().sum() > 0:\n",
        "        players_df[col].fillna(players_df[col].median(), inplace=True)\n",
        "\n",
        "# Step 5: Impute categorical columns with mode\n",
        "for col in categorical_cols:\n",
        "    if players_df[col].isnull().sum() > 0:\n",
        "        players_df[col].fillna(players_df[col].mode()[0], inplace=True)\n",
        "\n",
        "# Step 6: Final count of missing values\n",
        "final_missing = players_df.isnull().sum().sum()\n",
        "final_missing"
      ]
    },
    {
      "cell_type": "code",
      "execution_count": null,
      "metadata": {
        "colab": {
          "base_uri": "https://localhost:8080/"
        },
        "id": "eDynTnFQyESJ",
        "outputId": "192cd5fc-3878-404b-e96a-91584c815825"
      },
      "outputs": [
        {
          "output_type": "stream",
          "name": "stdout",
          "text": [
            "36\n"
          ]
        }
      ],
      "source": [
        "# Check for missing values\n",
        "print(coachs_df.isnull().sum().sum())"
      ]
    },
    {
      "cell_type": "code",
      "execution_count": null,
      "metadata": {
        "colab": {
          "base_uri": "https://localhost:8080/"
        },
        "id": "9T21Jt6m9t3w",
        "outputId": "012021ca-0779-4712-b000-061a77ed8f6f"
      },
      "outputs": [
        {
          "output_type": "stream",
          "name": "stdout",
          "text": [
            "0\n"
          ]
        }
      ],
      "source": [
        "# Check for missing values\n",
        "print(players_df.isnull().sum().sum())"
      ]
    },
    {
      "cell_type": "code",
      "execution_count": null,
      "metadata": {
        "colab": {
          "base_uri": "https://localhost:8080/"
        },
        "id": "htbCRYNnsbf6",
        "outputId": "47c5d15c-285e-45ec-c559-6148e1c9b4f3"
      },
      "outputs": [
        {
          "output_type": "stream",
          "name": "stdout",
          "text": [
            "0\n"
          ]
        }
      ],
      "source": [
        "# Check for missing values\n",
        "print(doctors_df.isnull().sum().sum())"
      ]
    },
    {
      "cell_type": "code",
      "execution_count": null,
      "metadata": {
        "colab": {
          "base_uri": "https://localhost:8080/"
        },
        "id": "zkUQ7D3XIgoR",
        "outputId": "b30ca25a-95ae-4b7d-cb46-fe7f88459e42"
      },
      "outputs": [
        {
          "output_type": "stream",
          "name": "stdout",
          "text": [
            "Min-Max Normalization Applied.\n"
          ]
        }
      ],
      "source": [
        "# Identify numerical columns\n",
        "numeric_cols = all_leagues.select_dtypes(include=['int64', 'float64']).columns\n",
        "from sklearn.preprocessing import MinMaxScaler\n",
        "\n",
        "# Apply Min-Max Scaling\n",
        "scaler = MinMaxScaler()\n",
        "all_leagues[numeric_cols] = scaler.fit_transform(all_leagues[numeric_cols])\n",
        "\n",
        "print(\"Min-Max Normalization Applied.\")"
      ]
    },
    {
      "cell_type": "code",
      "execution_count": null,
      "metadata": {
        "id": "6m4xuyNQ9-mC"
      },
      "outputs": [],
      "source": [
        "# Identify numerical columns\n",
        "numeric_cols = players_df.select_dtypes(include=['int64', 'float64']).columns\n",
        "from sklearn.preprocessing import MinMaxScaler\n",
        "\n",
        "# Apply Min-Max Scaling\n",
        "scaler = MinMaxScaler()\n",
        "players_df[numeric_cols] = scaler.fit_transform(players_df[numeric_cols])"
      ]
    },
    {
      "cell_type": "code",
      "execution_count": null,
      "metadata": {
        "id": "_EyGNWwoJ_p5"
      },
      "outputs": [],
      "source": [
        "from sklearn.ensemble import RandomForestRegressor\n",
        "\n",
        "# Replace 'id' with 'ranking' in the dataset\n",
        "all_leagues = all_leagues.rename(columns={'id': 'ranking'})"
      ]
    },
    {
      "cell_type": "markdown",
      "metadata": {
        "id": "jL4fDSk18L-z"
      },
      "source": [
        "# Modeling\n"
      ]
    },
    {
      "cell_type": "markdown",
      "metadata": {
        "id": "R-fMEFIoBtaD"
      },
      "source": [
        " 📊 Club Performance Analyzer with Stakeholder Recommendations\n",
        " This model scores each club across key performance areas\n",
        " and provides advice on which stakeholder groups need the most improvement.\n"
      ]
    },
    {
      "cell_type": "code",
      "execution_count": null,
      "metadata": {
        "colab": {
          "base_uri": "https://localhost:8080/",
          "height": 310
        },
        "id": "zmHTessxO3Xd",
        "outputId": "28ad5867-3031-43d2-dc70-2ea029fc7f2d"
      },
      "outputs": [
        {
          "output_type": "execute_result",
          "data": {
            "text/plain": [
              "           club   GK_Score   CB_Score   RB_Score   LB_Score  DMF_Score  \\\n",
              "99     AC Milan  40.852459  85.714286  84.615385  84.615385  61.607143   \n",
              "101     AS Roma  42.754098  71.428571  69.230769  69.230769  54.464286   \n",
              "21   AZ Alkmaar  36.295082  78.571429  76.923077  76.923077  58.035714   \n",
              "73      Ajaccio  50.262295  14.285714  15.384615  15.384615  10.642857   \n",
              "20         Ajax  36.754098  92.857143  92.307692  92.307692  65.178571   \n",
              "\n",
              "      CM_Score  AMF_Score  RW_Score    LW_Score   ST_Score  Coach_Score  \\\n",
              "99   50.677711  59.230382      70.0   72.727273  57.746479    45.897089   \n",
              "101  47.063253  42.823608      60.0   63.636364  38.028169    45.436235   \n",
              "21   53.990964  65.618712      85.0   86.363636  63.380282    43.168151   \n",
              "73    9.825301   5.952381      10.0    9.090909   0.000000    42.889609   \n",
              "20   64.533133  93.770959     100.0  100.000000  88.732394    45.691527   \n",
              "\n",
              "     Medical Staff_Score                                 Recommendations  \n",
              "99             52.380952         ⚠️ AC Milan should improve GK and Coach  \n",
              "101            38.095238  ⚠️ AS Roma should improve ST and Medical Staff  \n",
              "21             52.380952       ⚠️ AZ Alkmaar should improve GK and Coach  \n",
              "73             14.285714            ⚠️ Ajaccio should improve ST and AMF  \n",
              "20             57.142857             ⚠️ Ajax should improve GK and Coach  "
            ],
            "text/html": [
              "\n",
              "  <div id=\"df-8180d47e-93b5-410b-aec3-ca78aa3b12e6\" class=\"colab-df-container\">\n",
              "    <div>\n",
              "<style scoped>\n",
              "    .dataframe tbody tr th:only-of-type {\n",
              "        vertical-align: middle;\n",
              "    }\n",
              "\n",
              "    .dataframe tbody tr th {\n",
              "        vertical-align: top;\n",
              "    }\n",
              "\n",
              "    .dataframe thead th {\n",
              "        text-align: right;\n",
              "    }\n",
              "</style>\n",
              "<table border=\"1\" class=\"dataframe\">\n",
              "  <thead>\n",
              "    <tr style=\"text-align: right;\">\n",
              "      <th></th>\n",
              "      <th>club</th>\n",
              "      <th>GK_Score</th>\n",
              "      <th>CB_Score</th>\n",
              "      <th>RB_Score</th>\n",
              "      <th>LB_Score</th>\n",
              "      <th>DMF_Score</th>\n",
              "      <th>CM_Score</th>\n",
              "      <th>AMF_Score</th>\n",
              "      <th>RW_Score</th>\n",
              "      <th>LW_Score</th>\n",
              "      <th>ST_Score</th>\n",
              "      <th>Coach_Score</th>\n",
              "      <th>Medical Staff_Score</th>\n",
              "      <th>Recommendations</th>\n",
              "    </tr>\n",
              "  </thead>\n",
              "  <tbody>\n",
              "    <tr>\n",
              "      <th>99</th>\n",
              "      <td>AC Milan</td>\n",
              "      <td>40.852459</td>\n",
              "      <td>85.714286</td>\n",
              "      <td>84.615385</td>\n",
              "      <td>84.615385</td>\n",
              "      <td>61.607143</td>\n",
              "      <td>50.677711</td>\n",
              "      <td>59.230382</td>\n",
              "      <td>70.0</td>\n",
              "      <td>72.727273</td>\n",
              "      <td>57.746479</td>\n",
              "      <td>45.897089</td>\n",
              "      <td>52.380952</td>\n",
              "      <td>⚠️ AC Milan should improve GK and Coach</td>\n",
              "    </tr>\n",
              "    <tr>\n",
              "      <th>101</th>\n",
              "      <td>AS Roma</td>\n",
              "      <td>42.754098</td>\n",
              "      <td>71.428571</td>\n",
              "      <td>69.230769</td>\n",
              "      <td>69.230769</td>\n",
              "      <td>54.464286</td>\n",
              "      <td>47.063253</td>\n",
              "      <td>42.823608</td>\n",
              "      <td>60.0</td>\n",
              "      <td>63.636364</td>\n",
              "      <td>38.028169</td>\n",
              "      <td>45.436235</td>\n",
              "      <td>38.095238</td>\n",
              "      <td>⚠️ AS Roma should improve ST and Medical Staff</td>\n",
              "    </tr>\n",
              "    <tr>\n",
              "      <th>21</th>\n",
              "      <td>AZ Alkmaar</td>\n",
              "      <td>36.295082</td>\n",
              "      <td>78.571429</td>\n",
              "      <td>76.923077</td>\n",
              "      <td>76.923077</td>\n",
              "      <td>58.035714</td>\n",
              "      <td>53.990964</td>\n",
              "      <td>65.618712</td>\n",
              "      <td>85.0</td>\n",
              "      <td>86.363636</td>\n",
              "      <td>63.380282</td>\n",
              "      <td>43.168151</td>\n",
              "      <td>52.380952</td>\n",
              "      <td>⚠️ AZ Alkmaar should improve GK and Coach</td>\n",
              "    </tr>\n",
              "    <tr>\n",
              "      <th>73</th>\n",
              "      <td>Ajaccio</td>\n",
              "      <td>50.262295</td>\n",
              "      <td>14.285714</td>\n",
              "      <td>15.384615</td>\n",
              "      <td>15.384615</td>\n",
              "      <td>10.642857</td>\n",
              "      <td>9.825301</td>\n",
              "      <td>5.952381</td>\n",
              "      <td>10.0</td>\n",
              "      <td>9.090909</td>\n",
              "      <td>0.000000</td>\n",
              "      <td>42.889609</td>\n",
              "      <td>14.285714</td>\n",
              "      <td>⚠️ Ajaccio should improve ST and AMF</td>\n",
              "    </tr>\n",
              "    <tr>\n",
              "      <th>20</th>\n",
              "      <td>Ajax</td>\n",
              "      <td>36.754098</td>\n",
              "      <td>92.857143</td>\n",
              "      <td>92.307692</td>\n",
              "      <td>92.307692</td>\n",
              "      <td>65.178571</td>\n",
              "      <td>64.533133</td>\n",
              "      <td>93.770959</td>\n",
              "      <td>100.0</td>\n",
              "      <td>100.000000</td>\n",
              "      <td>88.732394</td>\n",
              "      <td>45.691527</td>\n",
              "      <td>57.142857</td>\n",
              "      <td>⚠️ Ajax should improve GK and Coach</td>\n",
              "    </tr>\n",
              "  </tbody>\n",
              "</table>\n",
              "</div>\n",
              "    <div class=\"colab-df-buttons\">\n",
              "\n",
              "  <div class=\"colab-df-container\">\n",
              "    <button class=\"colab-df-convert\" onclick=\"convertToInteractive('df-8180d47e-93b5-410b-aec3-ca78aa3b12e6')\"\n",
              "            title=\"Convert this dataframe to an interactive table.\"\n",
              "            style=\"display:none;\">\n",
              "\n",
              "  <svg xmlns=\"http://www.w3.org/2000/svg\" height=\"24px\" viewBox=\"0 -960 960 960\">\n",
              "    <path d=\"M120-120v-720h720v720H120Zm60-500h600v-160H180v160Zm220 220h160v-160H400v160Zm0 220h160v-160H400v160ZM180-400h160v-160H180v160Zm440 0h160v-160H620v160ZM180-180h160v-160H180v160Zm440 0h160v-160H620v160Z\"/>\n",
              "  </svg>\n",
              "    </button>\n",
              "\n",
              "  <style>\n",
              "    .colab-df-container {\n",
              "      display:flex;\n",
              "      gap: 12px;\n",
              "    }\n",
              "\n",
              "    .colab-df-convert {\n",
              "      background-color: #E8F0FE;\n",
              "      border: none;\n",
              "      border-radius: 50%;\n",
              "      cursor: pointer;\n",
              "      display: none;\n",
              "      fill: #1967D2;\n",
              "      height: 32px;\n",
              "      padding: 0 0 0 0;\n",
              "      width: 32px;\n",
              "    }\n",
              "\n",
              "    .colab-df-convert:hover {\n",
              "      background-color: #E2EBFA;\n",
              "      box-shadow: 0px 1px 2px rgba(60, 64, 67, 0.3), 0px 1px 3px 1px rgba(60, 64, 67, 0.15);\n",
              "      fill: #174EA6;\n",
              "    }\n",
              "\n",
              "    .colab-df-buttons div {\n",
              "      margin-bottom: 4px;\n",
              "    }\n",
              "\n",
              "    [theme=dark] .colab-df-convert {\n",
              "      background-color: #3B4455;\n",
              "      fill: #D2E3FC;\n",
              "    }\n",
              "\n",
              "    [theme=dark] .colab-df-convert:hover {\n",
              "      background-color: #434B5C;\n",
              "      box-shadow: 0px 1px 3px 1px rgba(0, 0, 0, 0.15);\n",
              "      filter: drop-shadow(0px 1px 2px rgba(0, 0, 0, 0.3));\n",
              "      fill: #FFFFFF;\n",
              "    }\n",
              "  </style>\n",
              "\n",
              "    <script>\n",
              "      const buttonEl =\n",
              "        document.querySelector('#df-8180d47e-93b5-410b-aec3-ca78aa3b12e6 button.colab-df-convert');\n",
              "      buttonEl.style.display =\n",
              "        google.colab.kernel.accessAllowed ? 'block' : 'none';\n",
              "\n",
              "      async function convertToInteractive(key) {\n",
              "        const element = document.querySelector('#df-8180d47e-93b5-410b-aec3-ca78aa3b12e6');\n",
              "        const dataTable =\n",
              "          await google.colab.kernel.invokeFunction('convertToInteractive',\n",
              "                                                    [key], {});\n",
              "        if (!dataTable) return;\n",
              "\n",
              "        const docLinkHtml = 'Like what you see? Visit the ' +\n",
              "          '<a target=\"_blank\" href=https://colab.research.google.com/notebooks/data_table.ipynb>data table notebook</a>'\n",
              "          + ' to learn more about interactive tables.';\n",
              "        element.innerHTML = '';\n",
              "        dataTable['output_type'] = 'display_data';\n",
              "        await google.colab.output.renderOutput(dataTable, element);\n",
              "        const docLink = document.createElement('div');\n",
              "        docLink.innerHTML = docLinkHtml;\n",
              "        element.appendChild(docLink);\n",
              "      }\n",
              "    </script>\n",
              "  </div>\n",
              "\n",
              "\n",
              "    <div id=\"df-b04626fd-2d50-4654-a184-3ceadac03065\">\n",
              "      <button class=\"colab-df-quickchart\" onclick=\"quickchart('df-b04626fd-2d50-4654-a184-3ceadac03065')\"\n",
              "                title=\"Suggest charts\"\n",
              "                style=\"display:none;\">\n",
              "\n",
              "<svg xmlns=\"http://www.w3.org/2000/svg\" height=\"24px\"viewBox=\"0 0 24 24\"\n",
              "     width=\"24px\">\n",
              "    <g>\n",
              "        <path d=\"M19 3H5c-1.1 0-2 .9-2 2v14c0 1.1.9 2 2 2h14c1.1 0 2-.9 2-2V5c0-1.1-.9-2-2-2zM9 17H7v-7h2v7zm4 0h-2V7h2v10zm4 0h-2v-4h2v4z\"/>\n",
              "    </g>\n",
              "</svg>\n",
              "      </button>\n",
              "\n",
              "<style>\n",
              "  .colab-df-quickchart {\n",
              "      --bg-color: #E8F0FE;\n",
              "      --fill-color: #1967D2;\n",
              "      --hover-bg-color: #E2EBFA;\n",
              "      --hover-fill-color: #174EA6;\n",
              "      --disabled-fill-color: #AAA;\n",
              "      --disabled-bg-color: #DDD;\n",
              "  }\n",
              "\n",
              "  [theme=dark] .colab-df-quickchart {\n",
              "      --bg-color: #3B4455;\n",
              "      --fill-color: #D2E3FC;\n",
              "      --hover-bg-color: #434B5C;\n",
              "      --hover-fill-color: #FFFFFF;\n",
              "      --disabled-bg-color: #3B4455;\n",
              "      --disabled-fill-color: #666;\n",
              "  }\n",
              "\n",
              "  .colab-df-quickchart {\n",
              "    background-color: var(--bg-color);\n",
              "    border: none;\n",
              "    border-radius: 50%;\n",
              "    cursor: pointer;\n",
              "    display: none;\n",
              "    fill: var(--fill-color);\n",
              "    height: 32px;\n",
              "    padding: 0;\n",
              "    width: 32px;\n",
              "  }\n",
              "\n",
              "  .colab-df-quickchart:hover {\n",
              "    background-color: var(--hover-bg-color);\n",
              "    box-shadow: 0 1px 2px rgba(60, 64, 67, 0.3), 0 1px 3px 1px rgba(60, 64, 67, 0.15);\n",
              "    fill: var(--button-hover-fill-color);\n",
              "  }\n",
              "\n",
              "  .colab-df-quickchart-complete:disabled,\n",
              "  .colab-df-quickchart-complete:disabled:hover {\n",
              "    background-color: var(--disabled-bg-color);\n",
              "    fill: var(--disabled-fill-color);\n",
              "    box-shadow: none;\n",
              "  }\n",
              "\n",
              "  .colab-df-spinner {\n",
              "    border: 2px solid var(--fill-color);\n",
              "    border-color: transparent;\n",
              "    border-bottom-color: var(--fill-color);\n",
              "    animation:\n",
              "      spin 1s steps(1) infinite;\n",
              "  }\n",
              "\n",
              "  @keyframes spin {\n",
              "    0% {\n",
              "      border-color: transparent;\n",
              "      border-bottom-color: var(--fill-color);\n",
              "      border-left-color: var(--fill-color);\n",
              "    }\n",
              "    20% {\n",
              "      border-color: transparent;\n",
              "      border-left-color: var(--fill-color);\n",
              "      border-top-color: var(--fill-color);\n",
              "    }\n",
              "    30% {\n",
              "      border-color: transparent;\n",
              "      border-left-color: var(--fill-color);\n",
              "      border-top-color: var(--fill-color);\n",
              "      border-right-color: var(--fill-color);\n",
              "    }\n",
              "    40% {\n",
              "      border-color: transparent;\n",
              "      border-right-color: var(--fill-color);\n",
              "      border-top-color: var(--fill-color);\n",
              "    }\n",
              "    60% {\n",
              "      border-color: transparent;\n",
              "      border-right-color: var(--fill-color);\n",
              "    }\n",
              "    80% {\n",
              "      border-color: transparent;\n",
              "      border-right-color: var(--fill-color);\n",
              "      border-bottom-color: var(--fill-color);\n",
              "    }\n",
              "    90% {\n",
              "      border-color: transparent;\n",
              "      border-bottom-color: var(--fill-color);\n",
              "    }\n",
              "  }\n",
              "</style>\n",
              "\n",
              "      <script>\n",
              "        async function quickchart(key) {\n",
              "          const quickchartButtonEl =\n",
              "            document.querySelector('#' + key + ' button');\n",
              "          quickchartButtonEl.disabled = true;  // To prevent multiple clicks.\n",
              "          quickchartButtonEl.classList.add('colab-df-spinner');\n",
              "          try {\n",
              "            const charts = await google.colab.kernel.invokeFunction(\n",
              "                'suggestCharts', [key], {});\n",
              "          } catch (error) {\n",
              "            console.error('Error during call to suggestCharts:', error);\n",
              "          }\n",
              "          quickchartButtonEl.classList.remove('colab-df-spinner');\n",
              "          quickchartButtonEl.classList.add('colab-df-quickchart-complete');\n",
              "        }\n",
              "        (() => {\n",
              "          let quickchartButtonEl =\n",
              "            document.querySelector('#df-b04626fd-2d50-4654-a184-3ceadac03065 button');\n",
              "          quickchartButtonEl.style.display =\n",
              "            google.colab.kernel.accessAllowed ? 'block' : 'none';\n",
              "        })();\n",
              "      </script>\n",
              "    </div>\n",
              "\n",
              "    </div>\n",
              "  </div>\n"
            ],
            "application/vnd.google.colaboratory.intrinsic+json": {
              "type": "dataframe",
              "variable_name": "result_df",
              "summary": "{\n  \"name\": \"result_df\",\n  \"rows\": 116,\n  \"fields\": [\n    {\n      \"column\": \"club\",\n      \"properties\": {\n        \"dtype\": \"string\",\n        \"num_unique_values\": 116,\n        \"samples\": [\n          \"Real Betis\",\n          \"Ajax\",\n          \"Feyenoord\"\n        ],\n        \"semantic_type\": \"\",\n        \"description\": \"\"\n      }\n    },\n    {\n      \"column\": \"GK_Score\",\n      \"properties\": {\n        \"dtype\": \"number\",\n        \"std\": 4.886440405280845,\n        \"min\": 30.491803278688522,\n        \"max\": 54.0,\n        \"num_unique_values\": 102,\n        \"samples\": [\n          48.16393442622952,\n          30.491803278688522,\n          46.65573770491803\n        ],\n        \"semantic_type\": \"\",\n        \"description\": \"\"\n      }\n    },\n    {\n      \"column\": \"CB_Score\",\n      \"properties\": {\n        \"dtype\": \"number\",\n        \"std\": 23.18991009817307,\n        \"min\": 0.0,\n        \"max\": 100.0,\n        \"num_unique_values\": 15,\n        \"samples\": [\n          42.85714285714285,\n          35.71428571428571,\n          85.71428571428572\n        ],\n        \"semantic_type\": \"\",\n        \"description\": \"\"\n      }\n    },\n    {\n      \"column\": \"RB_Score\",\n      \"properties\": {\n        \"dtype\": \"number\",\n        \"std\": 22.431330726782264,\n        \"min\": 0.0,\n        \"max\": 100.0,\n        \"num_unique_values\": 15,\n        \"samples\": [\n          77.07692307692307,\n          46.15384615384615,\n          84.61538461538463\n        ],\n        \"semantic_type\": \"\",\n        \"description\": \"\"\n      }\n    },\n    {\n      \"column\": \"LB_Score\",\n      \"properties\": {\n        \"dtype\": \"number\",\n        \"std\": 22.16222419395214,\n        \"min\": 0.0,\n        \"max\": 100.0,\n        \"num_unique_values\": 14,\n        \"samples\": [\n          38.46153846153847,\n          0.0,\n          84.61538461538461\n        ],\n        \"semantic_type\": \"\",\n        \"description\": \"\"\n      }\n    },\n    {\n      \"column\": \"DMF_Score\",\n      \"properties\": {\n        \"dtype\": \"number\",\n        \"std\": 14.496643179170363,\n        \"min\": 3.57142857142857,\n        \"max\": 92.85714285714286,\n        \"num_unique_values\": 35,\n        \"samples\": [\n          57.53571428571429,\n          47.32142857142857,\n          82.17857142857142\n        ],\n        \"semantic_type\": \"\",\n        \"description\": \"\"\n      }\n    },\n    {\n      \"column\": \"CM_Score\",\n      \"properties\": {\n        \"dtype\": \"number\",\n        \"std\": 14.226157947764838,\n        \"min\": 3.9156626506023695,\n        \"max\": 96.6867469879518,\n        \"num_unique_values\": 73,\n        \"samples\": [\n          64.53313253012047,\n          46.159638554216855,\n          28.68975903614457\n        ],\n        \"semantic_type\": \"\",\n        \"description\": \"\"\n      }\n    },\n    {\n      \"column\": \"AMF_Score\",\n      \"properties\": {\n        \"dtype\": \"number\",\n        \"std\": 22.237779903766405,\n        \"min\": 3.0851777330650476,\n        \"max\": 98.59154929577466,\n        \"num_unique_values\": 112,\n        \"samples\": [\n          48.725687458081815,\n          52.02883970489604,\n          93.77095908786049\n        ],\n        \"semantic_type\": \"\",\n        \"description\": \"\"\n      }\n    },\n    {\n      \"column\": \"RW_Score\",\n      \"properties\": {\n        \"dtype\": \"number\",\n        \"std\": 23.474283354566857,\n        \"min\": 0.0,\n        \"max\": 100.0,\n        \"num_unique_values\": 21,\n        \"samples\": [\n          70.00000000000001,\n          30.0,\n          14.999999999999996\n        ],\n        \"semantic_type\": \"\",\n        \"description\": \"\"\n      }\n    },\n    {\n      \"column\": \"LW_Score\",\n      \"properties\": {\n        \"dtype\": \"number\",\n        \"std\": 24.49064167911709,\n        \"min\": 0.0,\n        \"max\": 100.0,\n        \"num_unique_values\": 23,\n        \"samples\": [\n          13.636363636363647,\n          77.27272727272727,\n          72.72727272727273\n        ],\n        \"semantic_type\": \"\",\n        \"description\": \"\"\n      }\n    },\n    {\n      \"column\": \"ST_Score\",\n      \"properties\": {\n        \"dtype\": \"number\",\n        \"std\": 22.446414258984632,\n        \"min\": 0.0,\n        \"max\": 100.0,\n        \"num_unique_values\": 51,\n        \"samples\": [\n          100.0,\n          59.154929577464785,\n          92.95774647887325\n        ],\n        \"semantic_type\": \"\",\n        \"description\": \"\"\n      }\n    },\n    {\n      \"column\": \"Coach_Score\",\n      \"properties\": {\n        \"dtype\": \"number\",\n        \"std\": 4.324694452816096,\n        \"min\": 38.53493348756506,\n        \"max\": 57.22392519760942,\n        \"num_unique_values\": 116,\n        \"samples\": [\n          44.15546558704453,\n          45.69152689415847,\n          42.48095238095238\n        ],\n        \"semantic_type\": \"\",\n        \"description\": \"\"\n      }\n    },\n    {\n      \"column\": \"Medical Staff_Score\",\n      \"properties\": {\n        \"dtype\": \"number\",\n        \"std\": 16.97849023737835,\n        \"min\": 0.0,\n        \"max\": 100.0,\n        \"num_unique_values\": 18,\n        \"samples\": [\n          52.38095238095237,\n          38.095238095238095,\n          23.809523809523807\n        ],\n        \"semantic_type\": \"\",\n        \"description\": \"\"\n      }\n    },\n    {\n      \"column\": \"Recommendations\",\n      \"properties\": {\n        \"dtype\": \"string\",\n        \"num_unique_values\": 116,\n        \"samples\": [\n          \"\\u26a0\\ufe0f Real Betis should improve ST and AMF\",\n          \"\\u26a0\\ufe0f Ajax should improve GK and Coach\",\n          \"\\u26a0\\ufe0f Feyenoord should improve GK and Coach\"\n        ],\n        \"semantic_type\": \"\",\n        \"description\": \"\"\n      }\n    }\n  ]\n}"
            }
          },
          "metadata": {},
          "execution_count": 162
        }
      ],
      "source": [
        "# 🎯 1. Define feature mapping for each position\n",
        "position_features = {\n",
        "    \"GK\": [\"goals_conceded\", \"clean_sheets\"],\n",
        "    \"CB\": [\"conceded_attacks_middle\"],\n",
        "    \"RB\": [\"conceded_attacks_left\"],\n",
        "    \"LB\": [\"conceded_attacks_right\"],\n",
        "    \"DMF\": [\"conceded_attacks_middle\", \"possession(%)\"],\n",
        "    \"CM\": [\"pass_accuracy (%)\", \"possession(%)\"],\n",
        "    \"AMF\": [\"shots_per_match\", \"goals_scored\"],\n",
        "    \"RW\": [\"total_attacks_left\"],\n",
        "    \"LW\": [\"total_attacks_right\"],\n",
        "    \"ST\": [\"goals_scored\"],\n",
        "    \"Coach\": [\"wins\", \"draws\", \"losses\", \"goal_difference\", \"ranking\"],\n",
        "    \"Medical Staff\": [\"total_injuries\"]\n",
        "    }\n",
        "\n",
        "# 📦 2. Copy the normalized dataset\n",
        "club_df = all_leagues.copy()\n",
        "\n",
        "\n",
        "# 🧠 4. Score each position (average of normalized features × 100)\n",
        "for position, features in position_features.items():\n",
        "    club_df[f\"{position}_Score\"] = club_df[features].mean(axis=1) * 100\n",
        "\n",
        "# 🤖 5. Recommendation logic – get 2 lowest scoring positions\n",
        "def recommend_positions(row):\n",
        "    scores = {pos: row[f\"{pos}_Score\"] for pos in position_features}\n",
        "    weakest = sorted(scores.items(), key=lambda x: x[1])[:2]\n",
        "    return f\"⚠️ {row['club']} should improve \" + \" and \".join(pos for pos, _ in weakest)\n",
        "\n",
        "club_df[\"Recommendations\"] = club_df.apply(recommend_positions, axis=1)\n",
        "\n",
        "# 📊 6. Display results\n",
        "score_cols = [f\"{pos}_Score\" for pos in position_features]\n",
        "result_df = club_df[[\"club\"] + score_cols + [\"Recommendations\"]].sort_values(by=\"club\")\n",
        "result_df.head()"
      ]
    },
    {
      "cell_type": "markdown",
      "metadata": {
        "id": "B8v2jY3hQSQO"
      },
      "source": [
        "Create Model\n"
      ]
    },
    {
      "cell_type": "code",
      "execution_count": null,
      "metadata": {
        "colab": {
          "base_uri": "https://localhost:8080/"
        },
        "id": "OLMkivhWO3Mr",
        "outputId": "e61bfd57-2725-46ae-9182-9738ecb0e35b"
      },
      "outputs": [
        {
          "output_type": "stream",
          "name": "stdout",
          "text": [
            "📁 Weakest positions saved to 'club_weakest_positions.csv'\n",
            "✅ Model saved to 'position_recommender.pkl'\n"
          ]
        }
      ],
      "source": [
        "import pandas as pd\n",
        "import joblib\n",
        "\n",
        "class PositionRecommender:\n",
        "    def __init__(self):\n",
        "        self.position_features = {\n",
        "            \"GK\": [\"goals_conceded\", \"clean_sheets\"],\n",
        "            \"CB\": [\"conceded_attacks_middle\"],\n",
        "            \"RB\": [\"conceded_attacks_left\"],\n",
        "            \"LB\": [\"conceded_attacks_right\"],\n",
        "            \"DMF\": [\"conceded_attacks_middle\", \"possession(%)\"],\n",
        "            \"CM\": [\"pass_accuracy (%)\", \"possession(%)\"],\n",
        "            \"AMF\": [\"shots_per_match\", \"goals_scored\"],\n",
        "            \"RW\": [\"total_attacks_left\"],\n",
        "            \"LW\": [\"total_attacks_right\"],\n",
        "            \"ST\": [\"goals_scored\"],\n",
        "            \"Coach\": [\"wins\", \"draws\", \"losses\", \"goal_difference\", \"ranking\"],\n",
        "            \"Medical Staff\": [\"total_injuries\"],\n",
        "        }\n",
        "\n",
        "    def score_positions(self, df: pd.DataFrame):\n",
        "        df = df.copy()\n",
        "        for position, features in self.position_features.items():\n",
        "            df[f\"{position}_Score\"] = df[features].mean(axis=1) * 100\n",
        "        return df\n",
        "\n",
        "    def weakest_positions(self, df: pd.DataFrame):\n",
        "        df = self.score_positions(df)\n",
        "\n",
        "        def get_weakest(row):\n",
        "            # Get the position scores and sort them\n",
        "            scores = {pos: row[f\"{pos}_Score\"] for pos in self.position_features}\n",
        "            # Get the top 5 weakest positions based on the lowest scores\n",
        "            weakest = sorted(scores.items(), key=lambda x: x[1])[:5]\n",
        "            return pd.Series({\n",
        "                \"club\": row[\"club\"],\n",
        "                \"Weakest_1\": weakest[0][0],\n",
        "                \"Weakest_2\": weakest[1][0],\n",
        "                \"Weakest_3\": weakest[2][0],\n",
        "                \"Weakest_4\": weakest[3][0],\n",
        "                \"Weakest_5\": weakest[4][0]\n",
        "            })\n",
        "\n",
        "        # Apply the function to get the weakest positions for each club\n",
        "        return df.apply(get_weakest, axis=1)\n",
        "\n",
        "# Example data (replace this with your actual data)\n",
        "# all_leagues = pd.read_csv(\"your_data.csv\")  # Load the data as needed\n",
        "\n",
        "# Create and use the model\n",
        "model = PositionRecommender()\n",
        "weakest_df = model.weakest_positions(all_leagues)\n",
        "\n",
        "# Save the recommendations to CSV\n",
        "weakest_df.to_csv(\"club_weakest_positions.csv\", index=False)\n",
        "print(\"📁 Weakest positions saved to 'club_weakest_positions.csv'\")\n",
        "\n",
        "# Save the model\n",
        "joblib.dump(model, \"position_recommender.pkl\")\n",
        "print(\"✅ Model saved to 'position_recommender.pkl'\")\n"
      ]
    },
    {
      "cell_type": "code",
      "execution_count": null,
      "metadata": {
        "colab": {
          "base_uri": "https://localhost:8080/",
          "height": 206
        },
        "id": "YZe-uKVwQUXO",
        "outputId": "37b0d1eb-ed44-424c-d410-9d54eb8fc08a"
      },
      "outputs": [
        {
          "output_type": "execute_result",
          "data": {
            "text/plain": [
              "                club Weakest_1      Weakest_2      Weakest_3      Weakest_4  \\\n",
              "0      Bayern Munich        GK  Medical Staff          Coach            DMF   \n",
              "1  Borussia Dortmund     Coach             GK  Medical Staff             CM   \n",
              "2         RB Leipzig     Coach             GK  Medical Staff             CM   \n",
              "3       Union Berlin        CM  Medical Staff             ST          Coach   \n",
              "4        SC Freiburg        ST          Coach             GK  Medical Staff   \n",
              "\n",
              "  Weakest_5  \n",
              "0        CM  \n",
              "1       DMF  \n",
              "2        ST  \n",
              "3        GK  \n",
              "4       AMF  "
            ],
            "text/html": [
              "\n",
              "  <div id=\"df-952a731f-26ac-4938-b018-9b132221c0c3\" class=\"colab-df-container\">\n",
              "    <div>\n",
              "<style scoped>\n",
              "    .dataframe tbody tr th:only-of-type {\n",
              "        vertical-align: middle;\n",
              "    }\n",
              "\n",
              "    .dataframe tbody tr th {\n",
              "        vertical-align: top;\n",
              "    }\n",
              "\n",
              "    .dataframe thead th {\n",
              "        text-align: right;\n",
              "    }\n",
              "</style>\n",
              "<table border=\"1\" class=\"dataframe\">\n",
              "  <thead>\n",
              "    <tr style=\"text-align: right;\">\n",
              "      <th></th>\n",
              "      <th>club</th>\n",
              "      <th>Weakest_1</th>\n",
              "      <th>Weakest_2</th>\n",
              "      <th>Weakest_3</th>\n",
              "      <th>Weakest_4</th>\n",
              "      <th>Weakest_5</th>\n",
              "    </tr>\n",
              "  </thead>\n",
              "  <tbody>\n",
              "    <tr>\n",
              "      <th>0</th>\n",
              "      <td>Bayern Munich</td>\n",
              "      <td>GK</td>\n",
              "      <td>Medical Staff</td>\n",
              "      <td>Coach</td>\n",
              "      <td>DMF</td>\n",
              "      <td>CM</td>\n",
              "    </tr>\n",
              "    <tr>\n",
              "      <th>1</th>\n",
              "      <td>Borussia Dortmund</td>\n",
              "      <td>Coach</td>\n",
              "      <td>GK</td>\n",
              "      <td>Medical Staff</td>\n",
              "      <td>CM</td>\n",
              "      <td>DMF</td>\n",
              "    </tr>\n",
              "    <tr>\n",
              "      <th>2</th>\n",
              "      <td>RB Leipzig</td>\n",
              "      <td>Coach</td>\n",
              "      <td>GK</td>\n",
              "      <td>Medical Staff</td>\n",
              "      <td>CM</td>\n",
              "      <td>ST</td>\n",
              "    </tr>\n",
              "    <tr>\n",
              "      <th>3</th>\n",
              "      <td>Union Berlin</td>\n",
              "      <td>CM</td>\n",
              "      <td>Medical Staff</td>\n",
              "      <td>ST</td>\n",
              "      <td>Coach</td>\n",
              "      <td>GK</td>\n",
              "    </tr>\n",
              "    <tr>\n",
              "      <th>4</th>\n",
              "      <td>SC Freiburg</td>\n",
              "      <td>ST</td>\n",
              "      <td>Coach</td>\n",
              "      <td>GK</td>\n",
              "      <td>Medical Staff</td>\n",
              "      <td>AMF</td>\n",
              "    </tr>\n",
              "  </tbody>\n",
              "</table>\n",
              "</div>\n",
              "    <div class=\"colab-df-buttons\">\n",
              "\n",
              "  <div class=\"colab-df-container\">\n",
              "    <button class=\"colab-df-convert\" onclick=\"convertToInteractive('df-952a731f-26ac-4938-b018-9b132221c0c3')\"\n",
              "            title=\"Convert this dataframe to an interactive table.\"\n",
              "            style=\"display:none;\">\n",
              "\n",
              "  <svg xmlns=\"http://www.w3.org/2000/svg\" height=\"24px\" viewBox=\"0 -960 960 960\">\n",
              "    <path d=\"M120-120v-720h720v720H120Zm60-500h600v-160H180v160Zm220 220h160v-160H400v160Zm0 220h160v-160H400v160ZM180-400h160v-160H180v160Zm440 0h160v-160H620v160ZM180-180h160v-160H180v160Zm440 0h160v-160H620v160Z\"/>\n",
              "  </svg>\n",
              "    </button>\n",
              "\n",
              "  <style>\n",
              "    .colab-df-container {\n",
              "      display:flex;\n",
              "      gap: 12px;\n",
              "    }\n",
              "\n",
              "    .colab-df-convert {\n",
              "      background-color: #E8F0FE;\n",
              "      border: none;\n",
              "      border-radius: 50%;\n",
              "      cursor: pointer;\n",
              "      display: none;\n",
              "      fill: #1967D2;\n",
              "      height: 32px;\n",
              "      padding: 0 0 0 0;\n",
              "      width: 32px;\n",
              "    }\n",
              "\n",
              "    .colab-df-convert:hover {\n",
              "      background-color: #E2EBFA;\n",
              "      box-shadow: 0px 1px 2px rgba(60, 64, 67, 0.3), 0px 1px 3px 1px rgba(60, 64, 67, 0.15);\n",
              "      fill: #174EA6;\n",
              "    }\n",
              "\n",
              "    .colab-df-buttons div {\n",
              "      margin-bottom: 4px;\n",
              "    }\n",
              "\n",
              "    [theme=dark] .colab-df-convert {\n",
              "      background-color: #3B4455;\n",
              "      fill: #D2E3FC;\n",
              "    }\n",
              "\n",
              "    [theme=dark] .colab-df-convert:hover {\n",
              "      background-color: #434B5C;\n",
              "      box-shadow: 0px 1px 3px 1px rgba(0, 0, 0, 0.15);\n",
              "      filter: drop-shadow(0px 1px 2px rgba(0, 0, 0, 0.3));\n",
              "      fill: #FFFFFF;\n",
              "    }\n",
              "  </style>\n",
              "\n",
              "    <script>\n",
              "      const buttonEl =\n",
              "        document.querySelector('#df-952a731f-26ac-4938-b018-9b132221c0c3 button.colab-df-convert');\n",
              "      buttonEl.style.display =\n",
              "        google.colab.kernel.accessAllowed ? 'block' : 'none';\n",
              "\n",
              "      async function convertToInteractive(key) {\n",
              "        const element = document.querySelector('#df-952a731f-26ac-4938-b018-9b132221c0c3');\n",
              "        const dataTable =\n",
              "          await google.colab.kernel.invokeFunction('convertToInteractive',\n",
              "                                                    [key], {});\n",
              "        if (!dataTable) return;\n",
              "\n",
              "        const docLinkHtml = 'Like what you see? Visit the ' +\n",
              "          '<a target=\"_blank\" href=https://colab.research.google.com/notebooks/data_table.ipynb>data table notebook</a>'\n",
              "          + ' to learn more about interactive tables.';\n",
              "        element.innerHTML = '';\n",
              "        dataTable['output_type'] = 'display_data';\n",
              "        await google.colab.output.renderOutput(dataTable, element);\n",
              "        const docLink = document.createElement('div');\n",
              "        docLink.innerHTML = docLinkHtml;\n",
              "        element.appendChild(docLink);\n",
              "      }\n",
              "    </script>\n",
              "  </div>\n",
              "\n",
              "\n",
              "    <div id=\"df-67d9bb07-a604-455a-8868-8fb3a7c0919c\">\n",
              "      <button class=\"colab-df-quickchart\" onclick=\"quickchart('df-67d9bb07-a604-455a-8868-8fb3a7c0919c')\"\n",
              "                title=\"Suggest charts\"\n",
              "                style=\"display:none;\">\n",
              "\n",
              "<svg xmlns=\"http://www.w3.org/2000/svg\" height=\"24px\"viewBox=\"0 0 24 24\"\n",
              "     width=\"24px\">\n",
              "    <g>\n",
              "        <path d=\"M19 3H5c-1.1 0-2 .9-2 2v14c0 1.1.9 2 2 2h14c1.1 0 2-.9 2-2V5c0-1.1-.9-2-2-2zM9 17H7v-7h2v7zm4 0h-2V7h2v10zm4 0h-2v-4h2v4z\"/>\n",
              "    </g>\n",
              "</svg>\n",
              "      </button>\n",
              "\n",
              "<style>\n",
              "  .colab-df-quickchart {\n",
              "      --bg-color: #E8F0FE;\n",
              "      --fill-color: #1967D2;\n",
              "      --hover-bg-color: #E2EBFA;\n",
              "      --hover-fill-color: #174EA6;\n",
              "      --disabled-fill-color: #AAA;\n",
              "      --disabled-bg-color: #DDD;\n",
              "  }\n",
              "\n",
              "  [theme=dark] .colab-df-quickchart {\n",
              "      --bg-color: #3B4455;\n",
              "      --fill-color: #D2E3FC;\n",
              "      --hover-bg-color: #434B5C;\n",
              "      --hover-fill-color: #FFFFFF;\n",
              "      --disabled-bg-color: #3B4455;\n",
              "      --disabled-fill-color: #666;\n",
              "  }\n",
              "\n",
              "  .colab-df-quickchart {\n",
              "    background-color: var(--bg-color);\n",
              "    border: none;\n",
              "    border-radius: 50%;\n",
              "    cursor: pointer;\n",
              "    display: none;\n",
              "    fill: var(--fill-color);\n",
              "    height: 32px;\n",
              "    padding: 0;\n",
              "    width: 32px;\n",
              "  }\n",
              "\n",
              "  .colab-df-quickchart:hover {\n",
              "    background-color: var(--hover-bg-color);\n",
              "    box-shadow: 0 1px 2px rgba(60, 64, 67, 0.3), 0 1px 3px 1px rgba(60, 64, 67, 0.15);\n",
              "    fill: var(--button-hover-fill-color);\n",
              "  }\n",
              "\n",
              "  .colab-df-quickchart-complete:disabled,\n",
              "  .colab-df-quickchart-complete:disabled:hover {\n",
              "    background-color: var(--disabled-bg-color);\n",
              "    fill: var(--disabled-fill-color);\n",
              "    box-shadow: none;\n",
              "  }\n",
              "\n",
              "  .colab-df-spinner {\n",
              "    border: 2px solid var(--fill-color);\n",
              "    border-color: transparent;\n",
              "    border-bottom-color: var(--fill-color);\n",
              "    animation:\n",
              "      spin 1s steps(1) infinite;\n",
              "  }\n",
              "\n",
              "  @keyframes spin {\n",
              "    0% {\n",
              "      border-color: transparent;\n",
              "      border-bottom-color: var(--fill-color);\n",
              "      border-left-color: var(--fill-color);\n",
              "    }\n",
              "    20% {\n",
              "      border-color: transparent;\n",
              "      border-left-color: var(--fill-color);\n",
              "      border-top-color: var(--fill-color);\n",
              "    }\n",
              "    30% {\n",
              "      border-color: transparent;\n",
              "      border-left-color: var(--fill-color);\n",
              "      border-top-color: var(--fill-color);\n",
              "      border-right-color: var(--fill-color);\n",
              "    }\n",
              "    40% {\n",
              "      border-color: transparent;\n",
              "      border-right-color: var(--fill-color);\n",
              "      border-top-color: var(--fill-color);\n",
              "    }\n",
              "    60% {\n",
              "      border-color: transparent;\n",
              "      border-right-color: var(--fill-color);\n",
              "    }\n",
              "    80% {\n",
              "      border-color: transparent;\n",
              "      border-right-color: var(--fill-color);\n",
              "      border-bottom-color: var(--fill-color);\n",
              "    }\n",
              "    90% {\n",
              "      border-color: transparent;\n",
              "      border-bottom-color: var(--fill-color);\n",
              "    }\n",
              "  }\n",
              "</style>\n",
              "\n",
              "      <script>\n",
              "        async function quickchart(key) {\n",
              "          const quickchartButtonEl =\n",
              "            document.querySelector('#' + key + ' button');\n",
              "          quickchartButtonEl.disabled = true;  // To prevent multiple clicks.\n",
              "          quickchartButtonEl.classList.add('colab-df-spinner');\n",
              "          try {\n",
              "            const charts = await google.colab.kernel.invokeFunction(\n",
              "                'suggestCharts', [key], {});\n",
              "          } catch (error) {\n",
              "            console.error('Error during call to suggestCharts:', error);\n",
              "          }\n",
              "          quickchartButtonEl.classList.remove('colab-df-spinner');\n",
              "          quickchartButtonEl.classList.add('colab-df-quickchart-complete');\n",
              "        }\n",
              "        (() => {\n",
              "          let quickchartButtonEl =\n",
              "            document.querySelector('#df-67d9bb07-a604-455a-8868-8fb3a7c0919c button');\n",
              "          quickchartButtonEl.style.display =\n",
              "            google.colab.kernel.accessAllowed ? 'block' : 'none';\n",
              "        })();\n",
              "      </script>\n",
              "    </div>\n",
              "\n",
              "    </div>\n",
              "  </div>\n"
            ],
            "application/vnd.google.colaboratory.intrinsic+json": {
              "type": "dataframe",
              "variable_name": "result",
              "summary": "{\n  \"name\": \"result\",\n  \"rows\": 116,\n  \"fields\": [\n    {\n      \"column\": \"club\",\n      \"properties\": {\n        \"dtype\": \"string\",\n        \"num_unique_values\": 116,\n        \"samples\": [\n          \"Tottenham Hotspur\",\n          \"SC Freiburg\",\n          \"Osasuna\"\n        ],\n        \"semantic_type\": \"\",\n        \"description\": \"\"\n      }\n    },\n    {\n      \"column\": \"Weakest_1\",\n      \"properties\": {\n        \"dtype\": \"category\",\n        \"num_unique_values\": 9,\n        \"samples\": [\n          \"CB\",\n          \"Coach\",\n          \"AMF\"\n        ],\n        \"semantic_type\": \"\",\n        \"description\": \"\"\n      }\n    },\n    {\n      \"column\": \"Weakest_2\",\n      \"properties\": {\n        \"dtype\": \"category\",\n        \"num_unique_values\": 9,\n        \"samples\": [\n          \"RB\",\n          \"GK\",\n          \"CM\"\n        ],\n        \"semantic_type\": \"\",\n        \"description\": \"\"\n      }\n    },\n    {\n      \"column\": \"Weakest_3\",\n      \"properties\": {\n        \"dtype\": \"category\",\n        \"num_unique_values\": 10,\n        \"samples\": [\n          \"LB\",\n          \"Medical Staff\",\n          \"LW\"\n        ],\n        \"semantic_type\": \"\",\n        \"description\": \"\"\n      }\n    },\n    {\n      \"column\": \"Weakest_4\",\n      \"properties\": {\n        \"dtype\": \"category\",\n        \"num_unique_values\": 11,\n        \"samples\": [\n          \"AMF\",\n          \"DMF\",\n          \"LW\"\n        ],\n        \"semantic_type\": \"\",\n        \"description\": \"\"\n      }\n    },\n    {\n      \"column\": \"Weakest_5\",\n      \"properties\": {\n        \"dtype\": \"category\",\n        \"num_unique_values\": 11,\n        \"samples\": [\n          \"Coach\",\n          \"CM\",\n          \"Medical Staff\"\n        ],\n        \"semantic_type\": \"\",\n        \"description\": \"\"\n      }\n    }\n  ]\n}"
            }
          },
          "metadata": {},
          "execution_count": 164
        }
      ],
      "source": [
        "# Load and use the model\n",
        "import joblib\n",
        "recommender = joblib.load(\"position_recommender.pkl\")\n",
        "\n",
        "# Predict on all_leagues\n",
        "result = recommender.weakest_positions(all_leagues)\n",
        "result.head()\n"
      ]
    }
  ],
  "metadata": {
    "colab": {
      "provenance": []
    },
    "kernelspec": {
      "display_name": "base",
      "language": "python",
      "name": "python3"
    },
    "language_info": {
      "codemirror_mode": {
        "name": "ipython",
        "version": 3
      },
      "file_extension": ".py",
      "mimetype": "text/x-python",
      "name": "python",
      "nbconvert_exporter": "python",
      "pygments_lexer": "ipython3",
      "version": "3.11.5"
    }
  },
  "nbformat": 4,
  "nbformat_minor": 0
}