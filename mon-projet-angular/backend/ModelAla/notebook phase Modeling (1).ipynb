{
  "cells": [
    {
      "cell_type": "markdown",
      "metadata": {
        "id": "l7XaENk9NpaZ"
      },
      "source": [
        "# Introduction"
      ]
    },
    {
      "cell_type": "markdown",
      "metadata": {
        "id": "FbWVBF94Nyrv"
      },
      "source": [
        "# Iniatial"
      ]
    },
    {
      "cell_type": "markdown",
      "metadata": {
        "id": "U423R1M0N60U"
      },
      "source": [
        "1. Import Necessary Libraries\n"
      ]
    },
    {
      "cell_type": "code",
      "execution_count": 1,
      "metadata": {
        "id": "CfslPi8eNhqt"
      },
      "outputs": [],
      "source": [
        "import pandas as pd\n",
        "import numpy as np\n",
        "import matplotlib.pyplot as plt\n",
        "import seaborn as sns"
      ]
    },
    {
      "cell_type": "markdown",
      "metadata": {
        "id": "hFZIF0wHN-Ei"
      },
      "source": [
        "2. Load the Datasets\n"
      ]
    },
    {
      "cell_type": "code",
      "execution_count": 2,
      "metadata": {
        "id": "ArKmCQTkOJGL"
      },
      "outputs": [],
      "source": [
        "all_leagues = pd.read_csv('clubs_n.csv')"
      ]
    },
    {
      "cell_type": "markdown",
      "metadata": {
        "id": "wzetFZPhOmJr"
      },
      "source": [
        "# 3. Data Preprocessing"
      ]
    },
    {
      "cell_type": "code",
      "execution_count": 3,
      "metadata": {
        "id": "vzUOMbKjO3Ou"
      },
      "outputs": [],
      "source": [
        "# Standardize column names\n",
        "def standardize_column_names(df):\n",
        "    df.columns = df.columns.str.replace('possession(%)', 'possession(%)')\n",
        "    df.columns = df.columns.str.replace('pass_accuracy(%)', 'pass_accuracy(%)')\n",
        "    return df\n",
        "\n",
        "all_leagues = standardize_column_names(all_leagues)\n",
        "\n",
        "# Handle missing values\n",
        "def handle_missing_values(df):\n",
        "    num_cols = df.select_dtypes(include=['float64', 'int64']).columns\n",
        "    cat_cols = df.select_dtypes(include=['object']).columns\n",
        "\n",
        "    df[num_cols] = df[num_cols].fillna(df[num_cols].median())\n",
        "    df[cat_cols] = df[cat_cols].fillna(df[cat_cols].mode().iloc[0])\n",
        "    return df\n",
        "\n",
        "all_leagues = handle_missing_values(all_leagues)\n",
        "\n",
        "# Remove duplicates\n",
        "all_leagues = all_leagues.drop_duplicates()"
      ]
    },
    {
      "cell_type": "markdown",
      "metadata": {
        "id": "Y_aKSKfpO5ck"
      },
      "source": [
        "#4. Data Understanding\n"
      ]
    },
    {
      "cell_type": "code",
      "execution_count": 4,
      "metadata": {
        "colab": {
          "base_uri": "https://localhost:8080/"
        },
        "id": "qL1SSCT6uNAw",
        "outputId": "6140c147-b6c1-43d6-a122-aef0c5c1f9c5"
      },
      "outputs": [
        {
          "name": "stdout",
          "output_type": "stream",
          "text": [
            "🔹 Missing Data in Clubs Dataset After Imputation:\n",
            "Series([], dtype: int64)\n"
          ]
        }
      ],
      "source": [
        "# Drop the 'total_market_value' column\n",
        "all_leagues = all_leagues.drop(columns=['total_market_value','coach_name','club_standardized_y','url','filename'])\n",
        "# Impute missing values in clubs dataset\n",
        "all_leagues['average_age'] = all_leagues['average_age'].fillna(all_leagues['average_age'].mean())\n",
        "all_leagues['foreigners_percentage'] = all_leagues['foreigners_percentage'].fillna(all_leagues['foreigners_percentage'].mean())\n",
        "\n",
        "# Verify the result\n",
        "missing_club_data_after = all_leagues.isna().sum()\n",
        "print(\"🔹 Missing Data in Clubs Dataset After Imputation:\")\n",
        "print(missing_club_data_after[missing_club_data_after > 0])"
      ]
    },
    {
      "cell_type": "code",
      "execution_count": 5,
      "metadata": {
        "colab": {
          "base_uri": "https://localhost:8080/"
        },
        "id": "zkUQ7D3XIgoR",
        "outputId": "b30ca25a-95ae-4b7d-cb46-fe7f88459e42"
      },
      "outputs": [
        {
          "name": "stdout",
          "output_type": "stream",
          "text": [
            "Min-Max Normalization Applied.\n"
          ]
        }
      ],
      "source": [
        "# Identify numerical columns\n",
        "numeric_cols = all_leagues.select_dtypes(include=['int64', 'float64']).columns\n",
        "from sklearn.preprocessing import MinMaxScaler\n",
        "\n",
        "# Apply Min-Max Scaling\n",
        "scaler = MinMaxScaler()\n",
        "all_leagues[numeric_cols] = scaler.fit_transform(all_leagues[numeric_cols])\n",
        "\n",
        "print(\"Min-Max Normalization Applied.\")"
      ]
    },
    {
      "cell_type": "code",
      "execution_count": 6,
      "metadata": {
        "id": "_EyGNWwoJ_p5"
      },
      "outputs": [],
      "source": [
        "from sklearn.ensemble import RandomForestRegressor\n",
        "\n",
        "# Replace 'id' with 'ranking' in the dataset\n",
        "all_leagues = all_leagues.rename(columns={'id': 'ranking'})"
      ]
    },
    {
      "cell_type": "markdown",
      "metadata": {
        "id": "jL4fDSk18L-z"
      },
      "source": [
        "# Modeling\n"
      ]
    },
    {
      "cell_type": "markdown",
      "metadata": {
        "id": "R-fMEFIoBtaD"
      },
      "source": [
        " 📊 Club Performance Analyzer with Stakeholder Recommendations\n",
        " This model scores each club across key performance areas\n",
        " and provides advice on which stakeholder groups need the most improvement.\n"
      ]
    },
    {
      "cell_type": "code",
      "execution_count": 7,
      "metadata": {
        "colab": {
          "base_uri": "https://localhost:8080/",
          "height": 310
        },
        "id": "zmHTessxO3Xd",
        "outputId": "28ad5867-3031-43d2-dc70-2ea029fc7f2d"
      },
      "outputs": [
        {
          "data": {
            "text/html": [
              "<div>\n",
              "<style scoped>\n",
              "    .dataframe tbody tr th:only-of-type {\n",
              "        vertical-align: middle;\n",
              "    }\n",
              "\n",
              "    .dataframe tbody tr th {\n",
              "        vertical-align: top;\n",
              "    }\n",
              "\n",
              "    .dataframe thead th {\n",
              "        text-align: right;\n",
              "    }\n",
              "</style>\n",
              "<table border=\"1\" class=\"dataframe\">\n",
              "  <thead>\n",
              "    <tr style=\"text-align: right;\">\n",
              "      <th></th>\n",
              "      <th>club</th>\n",
              "      <th>GK_Score</th>\n",
              "      <th>CB_Score</th>\n",
              "      <th>RB_Score</th>\n",
              "      <th>LB_Score</th>\n",
              "      <th>DMF_Score</th>\n",
              "      <th>CM_Score</th>\n",
              "      <th>AMF_Score</th>\n",
              "      <th>RW_Score</th>\n",
              "      <th>LW_Score</th>\n",
              "      <th>ST_Score</th>\n",
              "      <th>Coach_Score</th>\n",
              "      <th>Medical Staff_Score</th>\n",
              "      <th>Recommendations</th>\n",
              "    </tr>\n",
              "  </thead>\n",
              "  <tbody>\n",
              "    <tr>\n",
              "      <th>99</th>\n",
              "      <td>AC Milan</td>\n",
              "      <td>40.852459</td>\n",
              "      <td>85.714286</td>\n",
              "      <td>84.615385</td>\n",
              "      <td>84.615385</td>\n",
              "      <td>61.607143</td>\n",
              "      <td>50.677711</td>\n",
              "      <td>59.230382</td>\n",
              "      <td>70.0</td>\n",
              "      <td>72.727273</td>\n",
              "      <td>57.746479</td>\n",
              "      <td>45.897089</td>\n",
              "      <td>52.380952</td>\n",
              "      <td>⚠️ AC Milan should improve GK and Coach</td>\n",
              "    </tr>\n",
              "    <tr>\n",
              "      <th>101</th>\n",
              "      <td>AS Roma</td>\n",
              "      <td>42.754098</td>\n",
              "      <td>71.428571</td>\n",
              "      <td>69.230769</td>\n",
              "      <td>69.230769</td>\n",
              "      <td>54.464286</td>\n",
              "      <td>47.063253</td>\n",
              "      <td>42.823608</td>\n",
              "      <td>60.0</td>\n",
              "      <td>63.636364</td>\n",
              "      <td>38.028169</td>\n",
              "      <td>45.436235</td>\n",
              "      <td>38.095238</td>\n",
              "      <td>⚠️ AS Roma should improve ST and Medical Staff</td>\n",
              "    </tr>\n",
              "    <tr>\n",
              "      <th>21</th>\n",
              "      <td>AZ Alkmaar</td>\n",
              "      <td>36.295082</td>\n",
              "      <td>78.571429</td>\n",
              "      <td>76.923077</td>\n",
              "      <td>76.923077</td>\n",
              "      <td>58.035714</td>\n",
              "      <td>53.990964</td>\n",
              "      <td>65.618712</td>\n",
              "      <td>85.0</td>\n",
              "      <td>86.363636</td>\n",
              "      <td>63.380282</td>\n",
              "      <td>43.168151</td>\n",
              "      <td>52.380952</td>\n",
              "      <td>⚠️ AZ Alkmaar should improve GK and Coach</td>\n",
              "    </tr>\n",
              "    <tr>\n",
              "      <th>73</th>\n",
              "      <td>Ajaccio</td>\n",
              "      <td>50.262295</td>\n",
              "      <td>14.285714</td>\n",
              "      <td>15.384615</td>\n",
              "      <td>15.384615</td>\n",
              "      <td>10.642857</td>\n",
              "      <td>9.825301</td>\n",
              "      <td>5.952381</td>\n",
              "      <td>10.0</td>\n",
              "      <td>9.090909</td>\n",
              "      <td>0.000000</td>\n",
              "      <td>42.889609</td>\n",
              "      <td>14.285714</td>\n",
              "      <td>⚠️ Ajaccio should improve ST and AMF</td>\n",
              "    </tr>\n",
              "    <tr>\n",
              "      <th>20</th>\n",
              "      <td>Ajax</td>\n",
              "      <td>36.754098</td>\n",
              "      <td>92.857143</td>\n",
              "      <td>92.307692</td>\n",
              "      <td>92.307692</td>\n",
              "      <td>65.178571</td>\n",
              "      <td>64.533133</td>\n",
              "      <td>93.770959</td>\n",
              "      <td>100.0</td>\n",
              "      <td>100.000000</td>\n",
              "      <td>88.732394</td>\n",
              "      <td>45.691527</td>\n",
              "      <td>57.142857</td>\n",
              "      <td>⚠️ Ajax should improve GK and Coach</td>\n",
              "    </tr>\n",
              "  </tbody>\n",
              "</table>\n",
              "</div>"
            ],
            "text/plain": [
              "           club   GK_Score   CB_Score   RB_Score   LB_Score  DMF_Score  \\\n",
              "99     AC Milan  40.852459  85.714286  84.615385  84.615385  61.607143   \n",
              "101     AS Roma  42.754098  71.428571  69.230769  69.230769  54.464286   \n",
              "21   AZ Alkmaar  36.295082  78.571429  76.923077  76.923077  58.035714   \n",
              "73      Ajaccio  50.262295  14.285714  15.384615  15.384615  10.642857   \n",
              "20         Ajax  36.754098  92.857143  92.307692  92.307692  65.178571   \n",
              "\n",
              "      CM_Score  AMF_Score  RW_Score    LW_Score   ST_Score  Coach_Score  \\\n",
              "99   50.677711  59.230382      70.0   72.727273  57.746479    45.897089   \n",
              "101  47.063253  42.823608      60.0   63.636364  38.028169    45.436235   \n",
              "21   53.990964  65.618712      85.0   86.363636  63.380282    43.168151   \n",
              "73    9.825301   5.952381      10.0    9.090909   0.000000    42.889609   \n",
              "20   64.533133  93.770959     100.0  100.000000  88.732394    45.691527   \n",
              "\n",
              "     Medical Staff_Score                                 Recommendations  \n",
              "99             52.380952         ⚠️ AC Milan should improve GK and Coach  \n",
              "101            38.095238  ⚠️ AS Roma should improve ST and Medical Staff  \n",
              "21             52.380952       ⚠️ AZ Alkmaar should improve GK and Coach  \n",
              "73             14.285714            ⚠️ Ajaccio should improve ST and AMF  \n",
              "20             57.142857             ⚠️ Ajax should improve GK and Coach  "
            ]
          },
          "execution_count": 7,
          "metadata": {},
          "output_type": "execute_result"
        }
      ],
      "source": [
        "# 🎯 1. Define feature mapping for each position\n",
        "position_features = {\n",
        "    \"GK\": [\"goals_conceded\", \"clean_sheets\"],\n",
        "    \"CB\": [\"conceded_attacks_middle\"],\n",
        "    \"RB\": [\"conceded_attacks_left\"],\n",
        "    \"LB\": [\"conceded_attacks_right\"],\n",
        "    \"DMF\": [\"conceded_attacks_middle\", \"possession(%)\"],\n",
        "    \"CM\": [\"pass_accuracy (%)\", \"possession(%)\"],\n",
        "    \"AMF\": [\"shots_per_match\", \"goals_scored\"],\n",
        "    \"RW\": [\"total_attacks_left\"],\n",
        "    \"LW\": [\"total_attacks_right\"],\n",
        "    \"ST\": [\"goals_scored\"],\n",
        "    \"Coach\": [\"wins\", \"draws\", \"losses\", \"goal_difference\", \"ranking\"],\n",
        "    \"Medical Staff\": [\"total_injuries\"]\n",
        "    }\n",
        "\n",
        "# 📦 2. Copy the normalized dataset\n",
        "club_df = all_leagues.copy()\n",
        "\n",
        "\n",
        "# 🧠 4. Score each position (average of normalized features × 100)\n",
        "for position, features in position_features.items():\n",
        "    club_df[f\"{position}_Score\"] = club_df[features].mean(axis=1) * 100\n",
        "\n",
        "# 🤖 5. Recommendation logic – get 2 lowest scoring positions\n",
        "def recommend_positions(row):\n",
        "    scores = {pos: row[f\"{pos}_Score\"] for pos in position_features}\n",
        "    weakest = sorted(scores.items(), key=lambda x: x[1])[:2]\n",
        "    return f\"⚠️ {row['club']} should improve \" + \" and \".join(pos for pos, _ in weakest)\n",
        "\n",
        "club_df[\"Recommendations\"] = club_df.apply(recommend_positions, axis=1)\n",
        "\n",
        "# 📊 6. Display results\n",
        "score_cols = [f\"{pos}_Score\" for pos in position_features]\n",
        "result_df = club_df[[\"club\"] + score_cols + [\"Recommendations\"]].sort_values(by=\"club\")\n",
        "result_df.head()"
      ]
    },
    {
      "cell_type": "markdown",
      "metadata": {
        "id": "B8v2jY3hQSQO"
      },
      "source": [
        "Create Model\n"
      ]
    },
    {
      "cell_type": "code",
      "execution_count": 8,
      "metadata": {
        "colab": {
          "base_uri": "https://localhost:8080/"
        },
        "id": "OLMkivhWO3Mr",
        "outputId": "e61bfd57-2725-46ae-9182-9738ecb0e35b"
      },
      "outputs": [
        {
          "name": "stdout",
          "output_type": "stream",
          "text": [
            "📁 Weakest positions saved to 'club_weakest_positions.csv'\n",
            "✅ Model saved to 'position_recommender.pkl'\n"
          ]
        }
      ],
      "source": [
        "import pandas as pd\n",
        "import joblib\n",
        "\n",
        "class PositionRecommender:\n",
        "    def __init__(self):\n",
        "        self.position_features = {\n",
        "            \"GK\": [\"goals_conceded\", \"clean_sheets\"],\n",
        "            \"CB\": [\"conceded_attacks_middle\"],\n",
        "            \"RB\": [\"conceded_attacks_left\"],\n",
        "            \"LB\": [\"conceded_attacks_right\"],\n",
        "            \"DMF\": [\"conceded_attacks_middle\", \"possession(%)\"],\n",
        "            \"CM\": [\"pass_accuracy (%)\", \"possession(%)\"],\n",
        "            \"AMF\": [\"shots_per_match\", \"goals_scored\"],\n",
        "            \"RW\": [\"total_attacks_left\"],\n",
        "            \"LW\": [\"total_attacks_right\"],\n",
        "            \"ST\": [\"goals_scored\"],\n",
        "            \"Coach\": [\"wins\", \"draws\", \"losses\", \"goal_difference\", \"ranking\"],\n",
        "            \"Medical Staff\": [\"total_injuries\"],\n",
        "        }\n",
        "\n",
        "    def score_positions(self, df: pd.DataFrame):\n",
        "        df = df.copy()\n",
        "        for position, features in self.position_features.items():\n",
        "            df[f\"{position}_Score\"] = df[features].mean(axis=1) * 100\n",
        "        return df\n",
        "\n",
        "    def weakest_positions(self, df: pd.DataFrame):\n",
        "        df = self.score_positions(df)\n",
        "\n",
        "        def get_weakest(row):\n",
        "            # Get the position scores and sort them\n",
        "            scores = {pos: row[f\"{pos}_Score\"] for pos in self.position_features}\n",
        "            # Get the top 5 weakest positions based on the lowest scores\n",
        "            weakest = sorted(scores.items(), key=lambda x: x[1])[:5]\n",
        "            return pd.Series({\n",
        "                \"club\": row[\"club\"],\n",
        "                \"Weakest_1\": weakest[0][0],\n",
        "                \"Weakest_2\": weakest[1][0],\n",
        "                \"Weakest_3\": weakest[2][0],\n",
        "                \"Weakest_4\": weakest[3][0],\n",
        "                \"Weakest_5\": weakest[4][0]\n",
        "            })\n",
        "\n",
        "        # Apply the function to get the weakest positions for each club\n",
        "        return df.apply(get_weakest, axis=1)\n",
        "\n",
        "# Example data (replace this with your actual data)\n",
        "# all_leagues = pd.read_csv(\"your_data.csv\")  # Load the data as needed\n",
        "\n",
        "# Create and use the model\n",
        "model = PositionRecommender()\n",
        "weakest_df = model.weakest_positions(all_leagues)\n",
        "\n",
        "# Save the recommendations to CSV\n",
        "weakest_df.to_csv(\"club_weakest_positions.csv\", index=False)\n",
        "print(\"📁 Weakest positions saved to 'club_weakest_positions.csv'\")\n",
        "\n",
        "# Save the model\n",
        "joblib.dump(model, \"position_recommender.pkl\")\n",
        "print(\"✅ Model saved to 'position_recommender.pkl'\")\n"
      ]
    },
    {
      "cell_type": "code",
      "execution_count": 9,
      "metadata": {
        "colab": {
          "base_uri": "https://localhost:8080/",
          "height": 206
        },
        "id": "YZe-uKVwQUXO",
        "outputId": "37b0d1eb-ed44-424c-d410-9d54eb8fc08a"
      },
      "outputs": [
        {
          "data": {
            "text/html": [
              "<div>\n",
              "<style scoped>\n",
              "    .dataframe tbody tr th:only-of-type {\n",
              "        vertical-align: middle;\n",
              "    }\n",
              "\n",
              "    .dataframe tbody tr th {\n",
              "        vertical-align: top;\n",
              "    }\n",
              "\n",
              "    .dataframe thead th {\n",
              "        text-align: right;\n",
              "    }\n",
              "</style>\n",
              "<table border=\"1\" class=\"dataframe\">\n",
              "  <thead>\n",
              "    <tr style=\"text-align: right;\">\n",
              "      <th></th>\n",
              "      <th>club</th>\n",
              "      <th>Weakest_1</th>\n",
              "      <th>Weakest_2</th>\n",
              "      <th>Weakest_3</th>\n",
              "      <th>Weakest_4</th>\n",
              "      <th>Weakest_5</th>\n",
              "    </tr>\n",
              "  </thead>\n",
              "  <tbody>\n",
              "    <tr>\n",
              "      <th>0</th>\n",
              "      <td>Bayern Munich</td>\n",
              "      <td>GK</td>\n",
              "      <td>Medical Staff</td>\n",
              "      <td>Coach</td>\n",
              "      <td>DMF</td>\n",
              "      <td>CM</td>\n",
              "    </tr>\n",
              "    <tr>\n",
              "      <th>1</th>\n",
              "      <td>Borussia Dortmund</td>\n",
              "      <td>Coach</td>\n",
              "      <td>GK</td>\n",
              "      <td>Medical Staff</td>\n",
              "      <td>CM</td>\n",
              "      <td>DMF</td>\n",
              "    </tr>\n",
              "    <tr>\n",
              "      <th>2</th>\n",
              "      <td>RB Leipzig</td>\n",
              "      <td>Coach</td>\n",
              "      <td>GK</td>\n",
              "      <td>Medical Staff</td>\n",
              "      <td>CM</td>\n",
              "      <td>ST</td>\n",
              "    </tr>\n",
              "    <tr>\n",
              "      <th>3</th>\n",
              "      <td>Union Berlin</td>\n",
              "      <td>CM</td>\n",
              "      <td>Medical Staff</td>\n",
              "      <td>ST</td>\n",
              "      <td>Coach</td>\n",
              "      <td>GK</td>\n",
              "    </tr>\n",
              "    <tr>\n",
              "      <th>4</th>\n",
              "      <td>SC Freiburg</td>\n",
              "      <td>ST</td>\n",
              "      <td>Coach</td>\n",
              "      <td>GK</td>\n",
              "      <td>Medical Staff</td>\n",
              "      <td>AMF</td>\n",
              "    </tr>\n",
              "  </tbody>\n",
              "</table>\n",
              "</div>"
            ],
            "text/plain": [
              "                club Weakest_1      Weakest_2      Weakest_3      Weakest_4  \\\n",
              "0      Bayern Munich        GK  Medical Staff          Coach            DMF   \n",
              "1  Borussia Dortmund     Coach             GK  Medical Staff             CM   \n",
              "2         RB Leipzig     Coach             GK  Medical Staff             CM   \n",
              "3       Union Berlin        CM  Medical Staff             ST          Coach   \n",
              "4        SC Freiburg        ST          Coach             GK  Medical Staff   \n",
              "\n",
              "  Weakest_5  \n",
              "0        CM  \n",
              "1       DMF  \n",
              "2        ST  \n",
              "3        GK  \n",
              "4       AMF  "
            ]
          },
          "execution_count": 9,
          "metadata": {},
          "output_type": "execute_result"
        }
      ],
      "source": [
        "# Load and use the model\n",
        "import joblib\n",
        "recommender = joblib.load(\"position_recommender.pkl\")\n",
        "\n",
        "# Predict on all_leagues\n",
        "result = recommender.weakest_positions(all_leagues)\n",
        "result.head()\n"
      ]
    }
  ],
  "metadata": {
    "colab": {
      "provenance": []
    },
    "kernelspec": {
      "display_name": "Python 3",
      "language": "python",
      "name": "python3"
    },
    "language_info": {
      "codemirror_mode": {
        "name": "ipython",
        "version": 3
      },
      "file_extension": ".py",
      "mimetype": "text/x-python",
      "name": "python",
      "nbconvert_exporter": "python",
      "pygments_lexer": "ipython3",
      "version": "3.12.4"
    },
    "widgets": {
      "application/vnd.jupyter.widget-state+json": {
        "02ae21f5b6c0489c9d7cb66f9fef7972": {
          "model_module": "@jupyter-widgets/output",
          "model_module_version": "1.0.0",
          "model_name": "OutputModel",
          "state": {
            "_dom_classes": [],
            "_model_module": "@jupyter-widgets/output",
            "_model_module_version": "1.0.0",
            "_model_name": "OutputModel",
            "_view_count": null,
            "_view_module": "@jupyter-widgets/output",
            "_view_module_version": "1.0.0",
            "_view_name": "OutputView",
            "layout": "IPY_MODEL_7cf42f2866fd4b64b5a63f94879a5aa3",
            "msg_id": "",
            "outputs": [
              {
                "name": "stdout",
                "output_type": "stream",
                "text": [
                  "🎯 Recommandation de joueurs pour Ajax (Position: GK) :\n"
                ]
              },
              {
                "data": {
                  "application/vnd.google.colaboratory.intrinsic+json": {
                    "summary": "{\n  \"name\": \"display(recommendation_type, role_dropdown, club_or_name_text, position_text, submit_button, output)\",\n  \"rows\": 5,\n  \"fields\": [\n    {\n      \"column\": \"name\",\n      \"properties\": {\n        \"dtype\": \"string\",\n        \"num_unique_values\": 5,\n        \"samples\": [\n          \"claudio vitor\",\n          \"nuno macedo\",\n          \"g. ito\"\n        ],\n        \"semantic_type\": \"\",\n        \"description\": \"\"\n      }\n    },\n    {\n      \"column\": \"team_name\",\n      \"properties\": {\n        \"dtype\": \"string\",\n        \"num_unique_values\": 4,\n        \"samples\": [\n          \"ava\\u00ed\",\n          \"yokohama f. marinos\",\n          \"free agents\"\n        ],\n        \"semantic_type\": \"\",\n        \"description\": \"\"\n      }\n    },\n    {\n      \"column\": \"league\",\n      \"properties\": {\n        \"dtype\": \"string\",\n        \"num_unique_values\": 3,\n        \"samples\": [\n          \"Free Agent\",\n          \"BRASILEIR\\u00c3O S\\u00c9RIE B 2020\",\n          \"AFC Champions League\"\n        ],\n        \"semantic_type\": \"\",\n        \"description\": \"\"\n      }\n    },\n    {\n      \"column\": \"registered_position\",\n      \"properties\": {\n        \"dtype\": \"category\",\n        \"num_unique_values\": 1,\n        \"samples\": [\n          \"GK\"\n        ],\n        \"semantic_type\": \"\",\n        \"description\": \"\"\n      }\n    },\n    {\n      \"column\": \"similarity_score\",\n      \"properties\": {\n        \"dtype\": \"number\",\n        \"std\": 0.007737445756489139,\n        \"min\": 0.9569788264666466,\n        \"max\": 0.9762121792289782,\n        \"num_unique_values\": 5,\n        \"samples\": [\n          0.969935947821137\n        ],\n        \"semantic_type\": \"\",\n        \"description\": \"\"\n      }\n    }\n  ]\n}",
                    "type": "dataframe"
                  },
                  "text/html": "\n  <div id=\"df-f22e2f00-0824-4ce9-a2af-c7384ff05f30\" class=\"colab-df-container\">\n    <div>\n<style scoped>\n    .dataframe tbody tr th:only-of-type {\n        vertical-align: middle;\n    }\n\n    .dataframe tbody tr th {\n        vertical-align: top;\n    }\n\n    .dataframe thead th {\n        text-align: right;\n    }\n</style>\n<table border=\"1\" class=\"dataframe\">\n  <thead>\n    <tr style=\"text-align: right;\">\n      <th></th>\n      <th>name</th>\n      <th>team_name</th>\n      <th>league</th>\n      <th>registered_position</th>\n      <th>similarity_score</th>\n    </tr>\n  </thead>\n  <tbody>\n    <tr>\n      <th>8332</th>\n      <td>wellington luís</td>\n      <td>free agents</td>\n      <td>Free Agent</td>\n      <td>GK</td>\n      <td>0.976212</td>\n    </tr>\n    <tr>\n      <th>11269</th>\n      <td>claudio vitor</td>\n      <td>avaí</td>\n      <td>BRASILEIRÃO SÉRIE B 2020</td>\n      <td>GK</td>\n      <td>0.969936</td>\n    </tr>\n    <tr>\n      <th>14495</th>\n      <td>g. ito</td>\n      <td>vissel kobe</td>\n      <td>AFC Champions League</td>\n      <td>GK</td>\n      <td>0.965162</td>\n    </tr>\n    <tr>\n      <th>6961</th>\n      <td>park il-gyu</td>\n      <td>yokohama f. marinos</td>\n      <td>AFC Champions League</td>\n      <td>GK</td>\n      <td>0.959809</td>\n    </tr>\n    <tr>\n      <th>7646</th>\n      <td>nuno macedo</td>\n      <td>free agents</td>\n      <td>Free Agent</td>\n      <td>GK</td>\n      <td>0.956979</td>\n    </tr>\n  </tbody>\n</table>\n</div>\n    <div class=\"colab-df-buttons\">\n\n  <div class=\"colab-df-container\">\n    <button class=\"colab-df-convert\" onclick=\"convertToInteractive('df-f22e2f00-0824-4ce9-a2af-c7384ff05f30')\"\n            title=\"Convert this dataframe to an interactive table.\"\n            style=\"display:none;\">\n\n  <svg xmlns=\"http://www.w3.org/2000/svg\" height=\"24px\" viewBox=\"0 -960 960 960\">\n    <path d=\"M120-120v-720h720v720H120Zm60-500h600v-160H180v160Zm220 220h160v-160H400v160Zm0 220h160v-160H400v160ZM180-400h160v-160H180v160Zm440 0h160v-160H620v160ZM180-180h160v-160H180v160Zm440 0h160v-160H620v160Z\"/>\n  </svg>\n    </button>\n\n  <style>\n    .colab-df-container {\n      display:flex;\n      gap: 12px;\n    }\n\n    .colab-df-convert {\n      background-color: #E8F0FE;\n      border: none;\n      border-radius: 50%;\n      cursor: pointer;\n      display: none;\n      fill: #1967D2;\n      height: 32px;\n      padding: 0 0 0 0;\n      width: 32px;\n    }\n\n    .colab-df-convert:hover {\n      background-color: #E2EBFA;\n      box-shadow: 0px 1px 2px rgba(60, 64, 67, 0.3), 0px 1px 3px 1px rgba(60, 64, 67, 0.15);\n      fill: #174EA6;\n    }\n\n    .colab-df-buttons div {\n      margin-bottom: 4px;\n    }\n\n    [theme=dark] .colab-df-convert {\n      background-color: #3B4455;\n      fill: #D2E3FC;\n    }\n\n    [theme=dark] .colab-df-convert:hover {\n      background-color: #434B5C;\n      box-shadow: 0px 1px 3px 1px rgba(0, 0, 0, 0.15);\n      filter: drop-shadow(0px 1px 2px rgba(0, 0, 0, 0.3));\n      fill: #FFFFFF;\n    }\n  </style>\n\n    <script>\n      const buttonEl =\n        document.querySelector('#df-f22e2f00-0824-4ce9-a2af-c7384ff05f30 button.colab-df-convert');\n      buttonEl.style.display =\n        google.colab.kernel.accessAllowed ? 'block' : 'none';\n\n      async function convertToInteractive(key) {\n        const element = document.querySelector('#df-f22e2f00-0824-4ce9-a2af-c7384ff05f30');\n        const dataTable =\n          await google.colab.kernel.invokeFunction('convertToInteractive',\n                                                    [key], {});\n        if (!dataTable) return;\n\n        const docLinkHtml = 'Like what you see? Visit the ' +\n          '<a target=\"_blank\" href=https://colab.research.google.com/notebooks/data_table.ipynb>data table notebook</a>'\n          + ' to learn more about interactive tables.';\n        element.innerHTML = '';\n        dataTable['output_type'] = 'display_data';\n        await google.colab.output.renderOutput(dataTable, element);\n        const docLink = document.createElement('div');\n        docLink.innerHTML = docLinkHtml;\n        element.appendChild(docLink);\n      }\n    </script>\n  </div>\n\n\n    <div id=\"df-d9f8efdc-81cd-4cab-ac23-f2fd5b5d2e94\">\n      <button class=\"colab-df-quickchart\" onclick=\"quickchart('df-d9f8efdc-81cd-4cab-ac23-f2fd5b5d2e94')\"\n                title=\"Suggest charts\"\n                style=\"display:none;\">\n\n<svg xmlns=\"http://www.w3.org/2000/svg\" height=\"24px\"viewBox=\"0 0 24 24\"\n     width=\"24px\">\n    <g>\n        <path d=\"M19 3H5c-1.1 0-2 .9-2 2v14c0 1.1.9 2 2 2h14c1.1 0 2-.9 2-2V5c0-1.1-.9-2-2-2zM9 17H7v-7h2v7zm4 0h-2V7h2v10zm4 0h-2v-4h2v4z\"/>\n    </g>\n</svg>\n      </button>\n\n<style>\n  .colab-df-quickchart {\n      --bg-color: #E8F0FE;\n      --fill-color: #1967D2;\n      --hover-bg-color: #E2EBFA;\n      --hover-fill-color: #174EA6;\n      --disabled-fill-color: #AAA;\n      --disabled-bg-color: #DDD;\n  }\n\n  [theme=dark] .colab-df-quickchart {\n      --bg-color: #3B4455;\n      --fill-color: #D2E3FC;\n      --hover-bg-color: #434B5C;\n      --hover-fill-color: #FFFFFF;\n      --disabled-bg-color: #3B4455;\n      --disabled-fill-color: #666;\n  }\n\n  .colab-df-quickchart {\n    background-color: var(--bg-color);\n    border: none;\n    border-radius: 50%;\n    cursor: pointer;\n    display: none;\n    fill: var(--fill-color);\n    height: 32px;\n    padding: 0;\n    width: 32px;\n  }\n\n  .colab-df-quickchart:hover {\n    background-color: var(--hover-bg-color);\n    box-shadow: 0 1px 2px rgba(60, 64, 67, 0.3), 0 1px 3px 1px rgba(60, 64, 67, 0.15);\n    fill: var(--button-hover-fill-color);\n  }\n\n  .colab-df-quickchart-complete:disabled,\n  .colab-df-quickchart-complete:disabled:hover {\n    background-color: var(--disabled-bg-color);\n    fill: var(--disabled-fill-color);\n    box-shadow: none;\n  }\n\n  .colab-df-spinner {\n    border: 2px solid var(--fill-color);\n    border-color: transparent;\n    border-bottom-color: var(--fill-color);\n    animation:\n      spin 1s steps(1) infinite;\n  }\n\n  @keyframes spin {\n    0% {\n      border-color: transparent;\n      border-bottom-color: var(--fill-color);\n      border-left-color: var(--fill-color);\n    }\n    20% {\n      border-color: transparent;\n      border-left-color: var(--fill-color);\n      border-top-color: var(--fill-color);\n    }\n    30% {\n      border-color: transparent;\n      border-left-color: var(--fill-color);\n      border-top-color: var(--fill-color);\n      border-right-color: var(--fill-color);\n    }\n    40% {\n      border-color: transparent;\n      border-right-color: var(--fill-color);\n      border-top-color: var(--fill-color);\n    }\n    60% {\n      border-color: transparent;\n      border-right-color: var(--fill-color);\n    }\n    80% {\n      border-color: transparent;\n      border-right-color: var(--fill-color);\n      border-bottom-color: var(--fill-color);\n    }\n    90% {\n      border-color: transparent;\n      border-bottom-color: var(--fill-color);\n    }\n  }\n</style>\n\n      <script>\n        async function quickchart(key) {\n          const quickchartButtonEl =\n            document.querySelector('#' + key + ' button');\n          quickchartButtonEl.disabled = true;  // To prevent multiple clicks.\n          quickchartButtonEl.classList.add('colab-df-spinner');\n          try {\n            const charts = await google.colab.kernel.invokeFunction(\n                'suggestCharts', [key], {});\n          } catch (error) {\n            console.error('Error during call to suggestCharts:', error);\n          }\n          quickchartButtonEl.classList.remove('colab-df-spinner');\n          quickchartButtonEl.classList.add('colab-df-quickchart-complete');\n        }\n        (() => {\n          let quickchartButtonEl =\n            document.querySelector('#df-d9f8efdc-81cd-4cab-ac23-f2fd5b5d2e94 button');\n          quickchartButtonEl.style.display =\n            google.colab.kernel.accessAllowed ? 'block' : 'none';\n        })();\n      </script>\n    </div>\n\n    </div>\n  </div>\n",
                  "text/plain": "                  name            team_name                    league  \\\n8332   wellington luís          free agents                Free Agent   \n11269    claudio vitor                 avaí  BRASILEIRÃO SÉRIE B 2020   \n14495           g. ito          vissel kobe      AFC Champions League   \n6961       park il-gyu  yokohama f. marinos      AFC Champions League   \n7646       nuno macedo          free agents                Free Agent   \n\n      registered_position  similarity_score  \n8332                   GK          0.976212  \n11269                  GK          0.969936  \n14495                  GK          0.965162  \n6961                   GK          0.959809  \n7646                   GK          0.956979  "
                },
                "metadata": {},
                "output_type": "display_data"
              }
            ]
          }
        },
        "1d0da97445a948f783f09a2b36788cfd": {
          "model_module": "@jupyter-widgets/controls",
          "model_module_version": "1.5.0",
          "model_name": "TextModel",
          "state": {
            "_dom_classes": [],
            "_model_module": "@jupyter-widgets/controls",
            "_model_module_version": "1.5.0",
            "_model_name": "TextModel",
            "_view_count": null,
            "_view_module": "@jupyter-widgets/controls",
            "_view_module_version": "1.5.0",
            "_view_name": "TextView",
            "continuous_update": true,
            "description": "Club:",
            "description_tooltip": null,
            "disabled": false,
            "layout": "IPY_MODEL_545a4b66bb8e4ef98d25b7d63ed23162",
            "placeholder": "Ex: Ajax ou Messi ou John Doe",
            "style": "IPY_MODEL_90042b1687ef43eeb96b51be73691eda",
            "value": "Ajax"
          }
        },
        "3a5b0701eb2c4402ba228fa54665a540": {
          "model_module": "@jupyter-widgets/base",
          "model_module_version": "1.2.0",
          "model_name": "LayoutModel",
          "state": {
            "_model_module": "@jupyter-widgets/base",
            "_model_module_version": "1.2.0",
            "_model_name": "LayoutModel",
            "_view_count": null,
            "_view_module": "@jupyter-widgets/base",
            "_view_module_version": "1.2.0",
            "_view_name": "LayoutView",
            "align_content": null,
            "align_items": null,
            "align_self": null,
            "border": null,
            "bottom": null,
            "display": null,
            "flex": null,
            "flex_flow": null,
            "grid_area": null,
            "grid_auto_columns": null,
            "grid_auto_flow": null,
            "grid_auto_rows": null,
            "grid_column": null,
            "grid_gap": null,
            "grid_row": null,
            "grid_template_areas": null,
            "grid_template_columns": null,
            "grid_template_rows": null,
            "height": null,
            "justify_content": null,
            "justify_items": null,
            "left": null,
            "margin": null,
            "max_height": null,
            "max_width": null,
            "min_height": null,
            "min_width": null,
            "object_fit": null,
            "object_position": null,
            "order": null,
            "overflow": null,
            "overflow_x": null,
            "overflow_y": null,
            "padding": null,
            "right": null,
            "top": null,
            "visibility": null,
            "width": null
          }
        },
        "545a4b66bb8e4ef98d25b7d63ed23162": {
          "model_module": "@jupyter-widgets/base",
          "model_module_version": "1.2.0",
          "model_name": "LayoutModel",
          "state": {
            "_model_module": "@jupyter-widgets/base",
            "_model_module_version": "1.2.0",
            "_model_name": "LayoutModel",
            "_view_count": null,
            "_view_module": "@jupyter-widgets/base",
            "_view_module_version": "1.2.0",
            "_view_name": "LayoutView",
            "align_content": null,
            "align_items": null,
            "align_self": null,
            "border": null,
            "bottom": null,
            "display": null,
            "flex": null,
            "flex_flow": null,
            "grid_area": null,
            "grid_auto_columns": null,
            "grid_auto_flow": null,
            "grid_auto_rows": null,
            "grid_column": null,
            "grid_gap": null,
            "grid_row": null,
            "grid_template_areas": null,
            "grid_template_columns": null,
            "grid_template_rows": null,
            "height": null,
            "justify_content": null,
            "justify_items": null,
            "left": null,
            "margin": null,
            "max_height": null,
            "max_width": null,
            "min_height": null,
            "min_width": null,
            "object_fit": null,
            "object_position": null,
            "order": null,
            "overflow": null,
            "overflow_x": null,
            "overflow_y": null,
            "padding": null,
            "right": null,
            "top": null,
            "visibility": null,
            "width": null
          }
        },
        "5d37ebe63b404bf8840b63599ae987c6": {
          "model_module": "@jupyter-widgets/controls",
          "model_module_version": "1.5.0",
          "model_name": "DescriptionStyleModel",
          "state": {
            "_model_module": "@jupyter-widgets/controls",
            "_model_module_version": "1.5.0",
            "_model_name": "DescriptionStyleModel",
            "_view_count": null,
            "_view_module": "@jupyter-widgets/base",
            "_view_module_version": "1.2.0",
            "_view_name": "StyleView",
            "description_width": ""
          }
        },
        "613826b5e52c4b6b984d96ead6364756": {
          "model_module": "@jupyter-widgets/controls",
          "model_module_version": "1.5.0",
          "model_name": "DescriptionStyleModel",
          "state": {
            "_model_module": "@jupyter-widgets/controls",
            "_model_module_version": "1.5.0",
            "_model_name": "DescriptionStyleModel",
            "_view_count": null,
            "_view_module": "@jupyter-widgets/base",
            "_view_module_version": "1.2.0",
            "_view_name": "StyleView",
            "description_width": ""
          }
        },
        "62bcd8c8a0d04b0fb4f457f1c919878b": {
          "model_module": "@jupyter-widgets/controls",
          "model_module_version": "1.5.0",
          "model_name": "DropdownModel",
          "state": {
            "_dom_classes": [],
            "_model_module": "@jupyter-widgets/controls",
            "_model_module_version": "1.5.0",
            "_model_name": "DropdownModel",
            "_options_labels": [
              "Recommander joueurs/coachs/doctors pour un club",
              "Recommander clubs pour un joueur/coach/doctor"
            ],
            "_view_count": null,
            "_view_module": "@jupyter-widgets/controls",
            "_view_module_version": "1.5.0",
            "_view_name": "DropdownView",
            "description": "Type:",
            "description_tooltip": null,
            "disabled": false,
            "index": 0,
            "layout": "IPY_MODEL_3a5b0701eb2c4402ba228fa54665a540",
            "style": "IPY_MODEL_6e216193a134495e8e1355cab4e3f58d"
          }
        },
        "6e216193a134495e8e1355cab4e3f58d": {
          "model_module": "@jupyter-widgets/controls",
          "model_module_version": "1.5.0",
          "model_name": "DescriptionStyleModel",
          "state": {
            "_model_module": "@jupyter-widgets/controls",
            "_model_module_version": "1.5.0",
            "_model_name": "DescriptionStyleModel",
            "_view_count": null,
            "_view_module": "@jupyter-widgets/base",
            "_view_module_version": "1.2.0",
            "_view_name": "StyleView",
            "description_width": ""
          }
        },
        "7cf42f2866fd4b64b5a63f94879a5aa3": {
          "model_module": "@jupyter-widgets/base",
          "model_module_version": "1.2.0",
          "model_name": "LayoutModel",
          "state": {
            "_model_module": "@jupyter-widgets/base",
            "_model_module_version": "1.2.0",
            "_model_name": "LayoutModel",
            "_view_count": null,
            "_view_module": "@jupyter-widgets/base",
            "_view_module_version": "1.2.0",
            "_view_name": "LayoutView",
            "align_content": null,
            "align_items": null,
            "align_self": null,
            "border": null,
            "bottom": null,
            "display": null,
            "flex": null,
            "flex_flow": null,
            "grid_area": null,
            "grid_auto_columns": null,
            "grid_auto_flow": null,
            "grid_auto_rows": null,
            "grid_column": null,
            "grid_gap": null,
            "grid_row": null,
            "grid_template_areas": null,
            "grid_template_columns": null,
            "grid_template_rows": null,
            "height": null,
            "justify_content": null,
            "justify_items": null,
            "left": null,
            "margin": null,
            "max_height": null,
            "max_width": null,
            "min_height": null,
            "min_width": null,
            "object_fit": null,
            "object_position": null,
            "order": null,
            "overflow": null,
            "overflow_x": null,
            "overflow_y": null,
            "padding": null,
            "right": null,
            "top": null,
            "visibility": null,
            "width": null
          }
        },
        "7f4da92048d94dc1889cb3ca55789662": {
          "model_module": "@jupyter-widgets/controls",
          "model_module_version": "1.5.0",
          "model_name": "DropdownModel",
          "state": {
            "_dom_classes": [],
            "_model_module": "@jupyter-widgets/controls",
            "_model_module_version": "1.5.0",
            "_model_name": "DropdownModel",
            "_options_labels": [
              "player",
              "coach",
              "doctor"
            ],
            "_view_count": null,
            "_view_module": "@jupyter-widgets/controls",
            "_view_module_version": "1.5.0",
            "_view_name": "DropdownView",
            "description": "Rôle:",
            "description_tooltip": null,
            "disabled": false,
            "index": 0,
            "layout": "IPY_MODEL_8d150cdb1cbc47b7a63180d415ff4219",
            "style": "IPY_MODEL_5d37ebe63b404bf8840b63599ae987c6"
          }
        },
        "87d370b4f20745468e1c7546c89af989": {
          "model_module": "@jupyter-widgets/controls",
          "model_module_version": "1.5.0",
          "model_name": "ButtonStyleModel",
          "state": {
            "_model_module": "@jupyter-widgets/controls",
            "_model_module_version": "1.5.0",
            "_model_name": "ButtonStyleModel",
            "_view_count": null,
            "_view_module": "@jupyter-widgets/base",
            "_view_module_version": "1.2.0",
            "_view_name": "StyleView",
            "button_color": null,
            "font_weight": ""
          }
        },
        "8ce96c816c2946acab08dc8c7d5cd049": {
          "model_module": "@jupyter-widgets/controls",
          "model_module_version": "1.5.0",
          "model_name": "ButtonModel",
          "state": {
            "_dom_classes": [],
            "_model_module": "@jupyter-widgets/controls",
            "_model_module_version": "1.5.0",
            "_model_name": "ButtonModel",
            "_view_count": null,
            "_view_module": "@jupyter-widgets/controls",
            "_view_module_version": "1.5.0",
            "_view_name": "ButtonView",
            "button_style": "success",
            "description": "🎯 Recommander",
            "disabled": false,
            "icon": "",
            "layout": "IPY_MODEL_8eeea7b2cd0243d6b00b0fa2ebb13a69",
            "style": "IPY_MODEL_87d370b4f20745468e1c7546c89af989",
            "tooltip": ""
          }
        },
        "8d150cdb1cbc47b7a63180d415ff4219": {
          "model_module": "@jupyter-widgets/base",
          "model_module_version": "1.2.0",
          "model_name": "LayoutModel",
          "state": {
            "_model_module": "@jupyter-widgets/base",
            "_model_module_version": "1.2.0",
            "_model_name": "LayoutModel",
            "_view_count": null,
            "_view_module": "@jupyter-widgets/base",
            "_view_module_version": "1.2.0",
            "_view_name": "LayoutView",
            "align_content": null,
            "align_items": null,
            "align_self": null,
            "border": null,
            "bottom": null,
            "display": null,
            "flex": null,
            "flex_flow": null,
            "grid_area": null,
            "grid_auto_columns": null,
            "grid_auto_flow": null,
            "grid_auto_rows": null,
            "grid_column": null,
            "grid_gap": null,
            "grid_row": null,
            "grid_template_areas": null,
            "grid_template_columns": null,
            "grid_template_rows": null,
            "height": null,
            "justify_content": null,
            "justify_items": null,
            "left": null,
            "margin": null,
            "max_height": null,
            "max_width": null,
            "min_height": null,
            "min_width": null,
            "object_fit": null,
            "object_position": null,
            "order": null,
            "overflow": null,
            "overflow_x": null,
            "overflow_y": null,
            "padding": null,
            "right": null,
            "top": null,
            "visibility": null,
            "width": null
          }
        },
        "8eeea7b2cd0243d6b00b0fa2ebb13a69": {
          "model_module": "@jupyter-widgets/base",
          "model_module_version": "1.2.0",
          "model_name": "LayoutModel",
          "state": {
            "_model_module": "@jupyter-widgets/base",
            "_model_module_version": "1.2.0",
            "_model_name": "LayoutModel",
            "_view_count": null,
            "_view_module": "@jupyter-widgets/base",
            "_view_module_version": "1.2.0",
            "_view_name": "LayoutView",
            "align_content": null,
            "align_items": null,
            "align_self": null,
            "border": null,
            "bottom": null,
            "display": null,
            "flex": null,
            "flex_flow": null,
            "grid_area": null,
            "grid_auto_columns": null,
            "grid_auto_flow": null,
            "grid_auto_rows": null,
            "grid_column": null,
            "grid_gap": null,
            "grid_row": null,
            "grid_template_areas": null,
            "grid_template_columns": null,
            "grid_template_rows": null,
            "height": null,
            "justify_content": null,
            "justify_items": null,
            "left": null,
            "margin": null,
            "max_height": null,
            "max_width": null,
            "min_height": null,
            "min_width": null,
            "object_fit": null,
            "object_position": null,
            "order": null,
            "overflow": null,
            "overflow_x": null,
            "overflow_y": null,
            "padding": null,
            "right": null,
            "top": null,
            "visibility": null,
            "width": null
          }
        },
        "90042b1687ef43eeb96b51be73691eda": {
          "model_module": "@jupyter-widgets/controls",
          "model_module_version": "1.5.0",
          "model_name": "DescriptionStyleModel",
          "state": {
            "_model_module": "@jupyter-widgets/controls",
            "_model_module_version": "1.5.0",
            "_model_name": "DescriptionStyleModel",
            "_view_count": null,
            "_view_module": "@jupyter-widgets/base",
            "_view_module_version": "1.2.0",
            "_view_name": "StyleView",
            "description_width": ""
          }
        },
        "a8d61d3162bb458d977c8e28b41dd482": {
          "model_module": "@jupyter-widgets/base",
          "model_module_version": "1.2.0",
          "model_name": "LayoutModel",
          "state": {
            "_model_module": "@jupyter-widgets/base",
            "_model_module_version": "1.2.0",
            "_model_name": "LayoutModel",
            "_view_count": null,
            "_view_module": "@jupyter-widgets/base",
            "_view_module_version": "1.2.0",
            "_view_name": "LayoutView",
            "align_content": null,
            "align_items": null,
            "align_self": null,
            "border": null,
            "bottom": null,
            "display": "block",
            "flex": null,
            "flex_flow": null,
            "grid_area": null,
            "grid_auto_columns": null,
            "grid_auto_flow": null,
            "grid_auto_rows": null,
            "grid_column": null,
            "grid_gap": null,
            "grid_row": null,
            "grid_template_areas": null,
            "grid_template_columns": null,
            "grid_template_rows": null,
            "height": null,
            "justify_content": null,
            "justify_items": null,
            "left": null,
            "margin": null,
            "max_height": null,
            "max_width": null,
            "min_height": null,
            "min_width": null,
            "object_fit": null,
            "object_position": null,
            "order": null,
            "overflow": null,
            "overflow_x": null,
            "overflow_y": null,
            "padding": null,
            "right": null,
            "top": null,
            "visibility": null,
            "width": null
          }
        },
        "fed8e8380b1c4b9da7e9591549e9a053": {
          "model_module": "@jupyter-widgets/controls",
          "model_module_version": "1.5.0",
          "model_name": "TextModel",
          "state": {
            "_dom_classes": [],
            "_model_module": "@jupyter-widgets/controls",
            "_model_module_version": "1.5.0",
            "_model_name": "TextModel",
            "_view_count": null,
            "_view_module": "@jupyter-widgets/controls",
            "_view_module_version": "1.5.0",
            "_view_name": "TextView",
            "continuous_update": true,
            "description": "Position:",
            "description_tooltip": null,
            "disabled": false,
            "layout": "IPY_MODEL_a8d61d3162bb458d977c8e28b41dd482",
            "placeholder": "Ex: GK",
            "style": "IPY_MODEL_613826b5e52c4b6b984d96ead6364756",
            "value": "GK"
          }
        }
      }
    }
  },
  "nbformat": 4,
  "nbformat_minor": 0
}
