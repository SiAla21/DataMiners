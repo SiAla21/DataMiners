{
 "cells": [
  {
   "cell_type": "markdown",
   "id": "844863ef-3266-40dc-b8df-4c4cf1caf910",
   "metadata": {},
   "source": [
    "## Imports for Player Verification System\n",
    "\n",
    "---\n",
    "\n",
    "- `requests`:  \n",
    "  To send HTTP requests (used for web scraping Flashscore profiles).\n",
    "\n",
    "- `bs4 (BeautifulSoup)`:  \n",
    "  To parse and extract information from HTML pages.\n",
    "\n",
    "- `cv2 (OpenCV)`:  \n",
    "  To load, decode, and process images.\n",
    "\n",
    "- `numpy`:  \n",
    "  To manipulate arrays and perform numerical operations (e.g., averaging embeddings).\n",
    "\n",
    "- `insightface.app.FaceAnalysis`:  \n",
    "  To perform face detection and extract face embeddings.\n",
    "\n",
    "- `sklearn.metrics.pairwise.cosine_similarity`:  \n",
    "  To compute similarity between two face embeddings.\n",
    "\n",
    "- `typing (List, Dict, Optional, Tuple)`:  \n",
    "  To add type hints for better code readability and validation.\n",
    "\n",
    "- `os`:  \n",
    "  To handle file system operations (e.g., saving, deleting temporary files).\n",
    "\n",
    "- `datetime`:  \n",
    "  To generate timestamps for verification logs.\n"
   ]
  },
  {
   "cell_type": "code",
   "execution_count": 2,
   "id": "b2d73972-f0b2-4332-8f81-876d95fe39ea",
   "metadata": {},
   "outputs": [],
   "source": [
    "import requests\n",
    "from bs4 import BeautifulSoup\n",
    "import cv2\n",
    "import numpy as np\n",
    "from insightface.app import FaceAnalysis\n",
    "from sklearn.metrics.pairwise import cosine_similarity\n",
    "from typing import List, Dict, Optional, Tuple\n",
    "import os\n",
    "from datetime import datetime"
   ]
  },
  {
   "cell_type": "markdown",
   "id": "c1f79edf-a7c0-4d85-9455-1a0577d5a686",
   "metadata": {},
   "source": [
    "## Class: PlayerVerificationSystem\n",
    "\n",
    "This class verifies the identity of a football player by comparing an official image from Flashscore with user-provided selfies.\n",
    "\n",
    "---\n",
    "\n",
    "## `__init__(self)`\n",
    "\n",
    "- Initializes the face recognition model (`buffalo_l` from InsightFace).\n",
    "- Prepares the model to work on CPU.\n",
    "- Sets a default similarity threshold of `0.60` for verification.\n",
    "\n",
    "---\n",
    "\n",
    "## `search_player_profile(self, player_name: str) -> Optional[str]`\n",
    "\n",
    "- Searches for the player's Flashscore profile using DuckDuckGo search.\n",
    "- Returns the URL of the profile if found, otherwise `None`.\n",
    "\n",
    "---\n",
    "\n",
    "## `extract_player_image(self, profile_url: str, player_name: str) -> Optional[str]`\n",
    "\n",
    "- Fetches the player's Flashscore profile page.\n",
    "- Extracts the player's official image URL by matching `alt` text or keywords.\n",
    "- Returns the image URL if successful, otherwise `None`.\n",
    "\n",
    "---\n",
    "\n",
    "## `process_image(self, image_path: str, is_url: bool = False) -> Optional[np.ndarray]`\n",
    "\n",
    "- Loads an image either from a local path or a URL.\n",
    "- Returns the loaded image as a NumPy array.\n",
    "- Returns `None` if loading fails.\n",
    "\n",
    "---\n",
    "\n",
    "## `get_face_embedding(self, image: np.ndarray) -> Optional[np.ndarray]`\n",
    "\n",
    "- Detects the face in the image using the prepared model.\n",
    "- Extracts the normalized face embedding vector.\n",
    "- Returns the embedding or `None` if no face is found.\n",
    "\n",
    "---\n",
    "\n",
    "## `verify_player_identity(self, player_name: str, selfie_paths: List[str], save_log: bool = False) -> Dict`\n",
    "\n",
    "**Workflow:**\n",
    "1. Search for the player profile.\n",
    "2. Extract the official image.\n",
    "3. Process the official image and extract its embedding.\n",
    "4. Process the provided selfies and extract their embeddings.\n",
    "5. Average the selfies' embeddings.\n",
    "6. Compute cosine similarity between the official and combined selfie embeddings.\n",
    "7. Decide if the player is verified based on the threshold.\n",
    "8. Optionally save the verification result in a log file.\n",
    "\n",
    "**Returns:**  \n",
    "A dictionary containing success status, similarity score, verification result, official image URL, and number of selfies used.\n",
    "\n",
    "---\n",
    "\n",
    "## `_save_verification_log(self, player_name: str, similarity_score: float, is_verified: bool) -> None`\n",
    "\n",
    "- Saves the verification result (timestamp, player, similarity score, verification decision) into `verification_logs.json`.\n",
    "- If the file does not exist, it creates one.\n",
    "- Appends each new verification result.\n",
    "\n",
    "---\n"
   ]
  },
  {
   "cell_type": "markdown",
   "id": "eb447be7-e010-43a7-8f1b-f30c3f3f8372",
   "metadata": {},
   "source": [
    "# Initialize the system"
   ]
  },
  {
   "cell_type": "code",
   "execution_count": 5,
   "id": "1deecf83-6a9f-4c58-94d1-1905c5c73bc6",
   "metadata": {},
   "outputs": [],
   "source": [
    "class PlayerVerificationSystem:\n",
    "    def __init__(self):\n",
    "        # Initialize face analysis model (ArcFace)\n",
    "        self.face_model = FaceAnalysis(name=\"buffalo_l\", providers=[\"CPUExecutionProvider\"])\n",
    "        self.face_model.prepare(ctx_id=0, det_size=(640, 640))\n",
    "        self.similarity_threshold = 0.60  # Can be adjusted based on testing\n",
    "\n",
    "    def search_player_profile(self, player_name: str) -> Optional[str]:\n",
    "        \"\"\"Search for player profile on Flashscore using DuckDuckGo\"\"\"\n",
    "        query = f\"{player_name} site:flashscore.com/player\"\n",
    "        url = \"https://html.duckduckgo.com/html/\"\n",
    "        \n",
    "        params = {\"q\": query}\n",
    "        headers = {\"User-Agent\": \"Mozilla/5.0\"}\n",
    "\n",
    "        try:\n",
    "            response = requests.post(url, data=params, headers=headers, timeout=10)\n",
    "            soup = BeautifulSoup(response.text, \"html.parser\")\n",
    "            \n",
    "            for link in soup.find_all(\"a\", href=True):\n",
    "                href = link[\"href\"]\n",
    "                if \"flashscore.com/player\" in href:\n",
    "                    return href\n",
    "        except Exception as e:\n",
    "            print(f\"Search error: {str(e)}\")\n",
    "        \n",
    "        return None\n",
    "    \n",
    "    def extract_player_image(self, profile_url: str, player_name: str) -> Optional[str]:\n",
    "        \"\"\"Extract official player image from Flashscore profile\"\"\"\n",
    "        headers = {\"User-Agent\": \"Mozilla/5.0\"}\n",
    "        \n",
    "        try:\n",
    "            res = requests.get(profile_url, headers=headers, timeout=10)\n",
    "            soup = BeautifulSoup(res.text, \"html.parser\")\n",
    "            \n",
    "            # Search for player image\n",
    "            search_parts = player_name.lower().split()\n",
    "            for img in soup.find_all(\"img\"):\n",
    "                src = img.get(\"src\", \"\")\n",
    "                alt = img.get(\"alt\", \"\").lower()\n",
    "                \n",
    "                if any(part in alt for part in search_parts) or \"player\" in alt:\n",
    "                    if src.startswith(\"//\"):\n",
    "                        return f\"https:{src}\"\n",
    "                    elif src.startswith(\"http\"):\n",
    "                        return src\n",
    "        except Exception as e:\n",
    "            print(f\"Image extraction error: {str(e)}\")\n",
    "        \n",
    "        return None\n",
    "    \n",
    "    def process_image(self, image_path: str, is_url: bool = False) -> Optional[np.ndarray]:\n",
    "        \"\"\"Load and process image from path or URL\"\"\"\n",
    "        try:\n",
    "            if is_url:\n",
    "                headers = {\n",
    "                    \"User-Agent\": \"Mozilla/5.0\",\n",
    "                    \"Referer\": \"https://www.flashscore.com/\"\n",
    "                }\n",
    "                resp = requests.get(image_path, headers=headers, timeout=10)\n",
    "                arr = np.asarray(bytearray(resp.content), dtype=np.uint8)\n",
    "                img = cv2.imdecode(arr, cv2.IMREAD_COLOR)\n",
    "            else:\n",
    "                img = cv2.imread(image_path)\n",
    "            \n",
    "            return img\n",
    "        except Exception as e:\n",
    "            print(f\"Image processing error: {str(e)}\")\n",
    "            return None\n",
    "    \n",
    "    def get_face_embedding(self, image: np.ndarray) -> Optional[np.ndarray]:\n",
    "        \"\"\"Extract face embedding from image\"\"\"\n",
    "        try:\n",
    "            faces = self.face_model.get(image)\n",
    "            if faces:\n",
    "                return faces[0].embedding\n",
    "            return None\n",
    "        except Exception as e:\n",
    "            print(f\"Face detection error: {str(e)}\")\n",
    "            return None\n",
    "    \n",
    "    def verify_player_identity(\n",
    "        self,\n",
    "        player_name: str,\n",
    "        selfie_paths: List[str],\n",
    "        save_log: bool = False\n",
    "    ) -> Dict:\n",
    "        \"\"\"\n",
    "        Main verification workflow:\n",
    "        1. Search for player profile\n",
    "        2. Extract official image\n",
    "        3. Process selfies and official image\n",
    "        4. Compare embeddings\n",
    "        5. Return verification result\n",
    "        \"\"\"\n",
    "        # 1. Find player profile\n",
    "        profile_url = self.search_player_profile(player_name)\n",
    "        if not profile_url:\n",
    "            return {\n",
    "                \"success\": False,\n",
    "                \"reason\": \"Player profile not found\",\n",
    "                \"player\": player_name,\n",
    "                \"verified\": False,\n",
    "                \"similarity_score\": 0.0\n",
    "            }\n",
    "        \n",
    "        # 2. Extract official image\n",
    "        official_img_url = self.extract_player_image(profile_url, player_name)\n",
    "        if not official_img_url:\n",
    "            return {\n",
    "                \"success\": False,\n",
    "                \"reason\": \"Official image not found\",\n",
    "                \"player\": player_name,\n",
    "                \"verified\": False,\n",
    "                \"similarity_score\": 0.0\n",
    "            }\n",
    "        \n",
    "        # 3. Process official image\n",
    "        official_img = self.process_image(official_img_url, is_url=True)\n",
    "        if official_img is None:\n",
    "            return {\n",
    "                \"success\": False,\n",
    "                \"reason\": \"Failed to process official image\",\n",
    "                \"player\": player_name,\n",
    "                \"verified\": False,\n",
    "                \"similarity_score\": 0.0\n",
    "            }\n",
    "        \n",
    "        official_embedding = self.get_face_embedding(official_img)\n",
    "        if official_embedding is None:\n",
    "            return {\n",
    "                \"success\": False,\n",
    "                \"reason\": \"No face detected in official image\",\n",
    "                \"player\": player_name,\n",
    "                \"verified\": False,\n",
    "                \"similarity_score\": 0.0\n",
    "            }\n",
    "        \n",
    "        # 4. Process and combine selfies\n",
    "        valid_selfie_embeddings = []\n",
    "        for path in selfie_paths:\n",
    "            selfie_img = self.process_image(path)\n",
    "            if selfie_img is None:\n",
    "                continue\n",
    "                \n",
    "            selfie_embedding = self.get_face_embedding(selfie_img)\n",
    "            if selfie_embedding is not None:\n",
    "                valid_selfie_embeddings.append(selfie_embedding)\n",
    "        \n",
    "        if len(valid_selfie_embeddings) < 1:\n",
    "            return {\n",
    "                \"success\": False,\n",
    "                \"reason\": \"No valid selfies provided\",\n",
    "                \"player\": player_name,\n",
    "                \"verified\": False,\n",
    "                \"similarity_score\": 0.0\n",
    "            }\n",
    "        \n",
    "        # Average all selfie embeddings\n",
    "        combined_embedding = np.mean(valid_selfie_embeddings, axis=0)\n",
    "        \n",
    "        # 5. Calculate similarity\n",
    "        similarity_score = cosine_similarity(\n",
    "            official_embedding.reshape(1, -1),\n",
    "            combined_embedding.reshape(1, -1))\n",
    "        similarity_score = float(similarity_score[0][0])\n",
    "        \n",
    "        is_verified = similarity_score >= self.similarity_threshold\n",
    "        \n",
    "        # Save verification log if requested\n",
    "        if save_log:\n",
    "            self._save_verification_log(\n",
    "                player_name,\n",
    "                similarity_score,\n",
    "                is_verified\n",
    "            )\n",
    "        \n",
    "        return {\n",
    "            \"success\": True,\n",
    "            \"player\": player_name,\n",
    "            \"verified\": is_verified,\n",
    "            \"similarity_score\": similarity_score,\n",
    "            \"official_image_url\": official_img_url,\n",
    "            \"selfies_used\": len(valid_selfie_embeddings),\n",
    "            \"threshold\": self.similarity_threshold\n",
    "        }\n",
    "    \n",
    "    def _save_verification_log(\n",
    "        self,\n",
    "        player_name: str,\n",
    "        similarity_score: float,\n",
    "        is_verified: bool\n",
    "    ) -> None:\n",
    "        \"\"\"Save verification log to file\"\"\"\n",
    "        log_entry = {\n",
    "            \"timestamp\": datetime.now().isoformat(),\n",
    "            \"player\": player_name,\n",
    "            \"similarity_score\": similarity_score,\n",
    "            \"verified\": is_verified,\n",
    "            \"threshold\": self.similarity_threshold\n",
    "        }\n",
    "        \n",
    "        log_file = \"verification_logs.json\"\n",
    "        \n",
    "        # Create file if it doesn't exist\n",
    "        if not os.path.exists(log_file):\n",
    "            with open(log_file, \"w\") as f:\n",
    "                f.write(\"[]\")\n",
    "        \n",
    "        # Append new log entry\n",
    "        try:\n",
    "            with open(log_file, \"r+\") as f:\n",
    "                logs = json.load(f)\n",
    "                logs.append(log_entry)\n",
    "                f.seek(0)\n",
    "                json.dump(logs, f, indent=2)\n",
    "        except Exception as e:\n",
    "            print(f\"Failed to save log: {str(e)}\")"
   ]
  },
  {
   "cell_type": "code",
   "execution_count": 6,
   "id": "282e8451-e087-4f74-afd9-2d676d102348",
   "metadata": {},
   "outputs": [
    {
     "name": "stdout",
     "output_type": "stream",
     "text": [
      "Applied providers: ['CPUExecutionProvider'], with options: {'CPUExecutionProvider': {}}\n",
      "find model: C:\\Users\\bouaz/.insightface\\models\\buffalo_l\\1k3d68.onnx landmark_3d_68 ['None', 3, 192, 192] 0.0 1.0\n",
      "Applied providers: ['CPUExecutionProvider'], with options: {'CPUExecutionProvider': {}}\n",
      "find model: C:\\Users\\bouaz/.insightface\\models\\buffalo_l\\2d106det.onnx landmark_2d_106 ['None', 3, 192, 192] 0.0 1.0\n",
      "Applied providers: ['CPUExecutionProvider'], with options: {'CPUExecutionProvider': {}}\n",
      "find model: C:\\Users\\bouaz/.insightface\\models\\buffalo_l\\det_10g.onnx detection [1, 3, '?', '?'] 127.5 128.0\n",
      "Applied providers: ['CPUExecutionProvider'], with options: {'CPUExecutionProvider': {}}\n",
      "find model: C:\\Users\\bouaz/.insightface\\models\\buffalo_l\\genderage.onnx genderage ['None', 3, 96, 96] 0.0 1.0\n",
      "Applied providers: ['CPUExecutionProvider'], with options: {'CPUExecutionProvider': {}}\n",
      "find model: C:\\Users\\bouaz/.insightface\\models\\buffalo_l\\w600k_r50.onnx recognition ['None', 3, 112, 112] 127.5 127.5\n",
      "set det-size: (640, 640)\n"
     ]
    }
   ],
   "source": [
    "verifier = PlayerVerificationSystem()\n",
    "# Initialize empty results list\n",
    "sample_results = []\n"
   ]
  },
  {
   "cell_type": "markdown",
   "id": "a180442a-5c15-41da-a598-c0bf68189c6c",
   "metadata": {},
   "source": [
    "# Autogenerated verification script for player identity evaluation\n",
    " Note: File paths are assumed to match player2 last names as shown in the directory structure"
   ]
  },
  {
   "cell_type": "code",
   "execution_count": 8,
   "id": "163b2aa8-7746-4fd9-861c-5931ed0d436c",
   "metadata": {},
   "outputs": [],
   "source": [
    "# Print all results\n",
    "for res in sample_results:\n",
    "    print(res)\n"
   ]
  },
  {
   "cell_type": "code",
   "execution_count": 22,
   "id": "0c2d78e9-301d-4f81-ae0c-463a9d66baf9",
   "metadata": {},
   "outputs": [
    {
     "name": "stdout",
     "output_type": "stream",
     "text": [
      "Applied providers: ['CPUExecutionProvider'], with options: {'CPUExecutionProvider': {}}\n",
      "find model: C:\\Users\\bouaz/.insightface\\models\\buffalo_l\\1k3d68.onnx landmark_3d_68 ['None', 3, 192, 192] 0.0 1.0\n",
      "Applied providers: ['CPUExecutionProvider'], with options: {'CPUExecutionProvider': {}}\n",
      "find model: C:\\Users\\bouaz/.insightface\\models\\buffalo_l\\2d106det.onnx landmark_2d_106 ['None', 3, 192, 192] 0.0 1.0\n",
      "Applied providers: ['CPUExecutionProvider'], with options: {'CPUExecutionProvider': {}}\n",
      "find model: C:\\Users\\bouaz/.insightface\\models\\buffalo_l\\det_10g.onnx detection [1, 3, '?', '?'] 127.5 128.0\n",
      "Applied providers: ['CPUExecutionProvider'], with options: {'CPUExecutionProvider': {}}\n",
      "find model: C:\\Users\\bouaz/.insightface\\models\\buffalo_l\\genderage.onnx genderage ['None', 3, 96, 96] 0.0 1.0\n",
      "Applied providers: ['CPUExecutionProvider'], with options: {'CPUExecutionProvider': {}}\n",
      "find model: C:\\Users\\bouaz/.insightface\\models\\buffalo_l\\w600k_r50.onnx recognition ['None', 3, 112, 112] 127.5 127.5\n",
      "set det-size: (640, 640)\n"
     ]
    },
    {
     "name": "stderr",
     "output_type": "stream",
     "text": [
      "C:\\Users\\bouaz\\anaconda3\\Lib\\site-packages\\insightface\\utils\\transform.py:68: FutureWarning: `rcond` parameter will change to the default of machine precision times ``max(M, N)`` where M and N are the input matrix dimensions.\n",
      "To use the future default and silence this warning we advise to pass `rcond=None`, to keep using the old, explicitly pass `rcond=-1`.\n",
      "  P = np.linalg.lstsq(X_homo, Y)[0].T # Affine matrix. 3 x 4\n"
     ]
    },
    {
     "name": "stdout",
     "output_type": "stream",
     "text": [
      "{'success': True, 'player': 'David Raum', 'verified': False, 'similarity_score': 0.5623358488082886, 'official_image_url': 'https://static.flashscore.com/res/image/data/CG6ZWVXg-KptDiOE0.png', 'selfies_used': 1, 'threshold': 0.6}\n"
     ]
    }
   ],
   "source": [
    "# Example: verify Raum using downloaded selfies\n",
    "\n",
    "selfie_paths = [\n",
    "    r\"C:\\Users\\bouaz\\Downloads\\Raum1.jpg\",\n",
    "    r\"C:\\Users\\bouaz\\Downloads\\Raum2.jpg\",\n",
    "    r\"C:\\Users\\bouaz\\Downloads\\Raum3.jpg\"\n",
    "]\n",
    "\n",
    "verification_system = PlayerVerificationSystem()\n",
    "result = verification_system.verify_player_identity(\n",
    "    player_name=\"David Raum\",\n",
    "    selfie_paths=selfie_paths,\n",
    "    save_log=True\n",
    ")\n",
    "\n",
    "print(result)\n"
   ]
  },
  {
   "cell_type": "code",
   "execution_count": 18,
   "id": "f5ac4e5a-2a90-493d-8259-9e43070f47b5",
   "metadata": {},
   "outputs": [
    {
     "name": "stdout",
     "output_type": "stream",
     "text": [
      "{'success': False, 'reason': 'Player profile not found', 'player': 'Benjamin Sesko', 'verified': False, 'similarity_score': 0.0}\n",
      "{'success': False, 'reason': 'Player profile not found', 'player': 'Jonathan Clauss', 'verified': False, 'similarity_score': 0.0}\n",
      "{'success': False, 'reason': 'Player profile not found', 'player': 'Gonçalo Inácio', 'verified': False, 'similarity_score': 0.0}\n",
      "{'success': False, 'reason': 'Player profile not found', 'player': 'Zeki Celik', 'verified': False, 'similarity_score': 0.0}\n",
      "{'success': False, 'reason': 'Player profile not found', 'player': 'Cody Gakpo', 'verified': False, 'similarity_score': 0.0}\n",
      "{'success': False, 'reason': 'Player profile not found', 'player': 'Donyell Malen', 'verified': False, 'similarity_score': 0.0}\n",
      "{'success': False, 'reason': 'Player profile not found', 'player': 'Luca Netz', 'verified': False, 'similarity_score': 0.0}\n",
      "{'success': False, 'reason': 'Player profile not found', 'player': 'Josip Stanisic', 'verified': False, 'similarity_score': 0.0}\n"
     ]
    }
   ],
   "source": [
    "sample_results = []\n",
    "\n",
    "# Verify Benjamin Sesko\n",
    "result = verifier.verify_player_identity(\n",
    "    \"Benjamin Sesko\",\n",
    "    [\n",
    "        \"C:/Users/bouaz/Downloads/Patrik Schick1.jpg\",\n",
    "        \"C:/Users/bouaz/Downloads/Patrik Schick2.jpg\",\n",
    "        \"C:/Users/bouaz/Downloads/Patrik Schick3.jpg\",\n",
    "    ],\n",
    "    save_log=True\n",
    ")\n",
    "sample_results.append({\n",
    "    \"player\": \"Benjamin Sesko\",\n",
    "    \"similarity\": result[\"similarity_score\"],\n",
    "    \"verified\": result[\"verified\"],\n",
    "    \"ground_truth\": False\n",
    "})\n",
    "print(result)\n",
    "\n",
    "# Verify Jonathan Clauss\n",
    "result = verifier.verify_player_identity(\n",
    "    \"Jonathan Clauss\",\n",
    "    [\n",
    "        \"C:/Users/bouaz/Downloads/Thomas Meunier1.jpg\",\n",
    "        \"C:/Users/bouaz/Downloads/Thomas Meunier2.jpg\",\n",
    "        \"C:/Users/bouaz/Downloads/Thomas Meunier3.jpg\",\n",
    "    ],\n",
    "    save_log=True\n",
    ")\n",
    "sample_results.append({\n",
    "    \"player\": \"Jonathan Clauss\",\n",
    "    \"similarity\": result[\"similarity_score\"],\n",
    "    \"verified\": result[\"verified\"],\n",
    "    \"ground_truth\": False\n",
    "})\n",
    "print(result)\n",
    "\n",
    "# Verify Gonçalo Inácio\n",
    "result = verifier.verify_player_identity(\n",
    "    \"Gonçalo Inácio\",\n",
    "    [\n",
    "        \"C:/Users/bouaz/Downloads/Djalo.jpg\",\n",
    "        \"C:/Users/bouaz/Downloads/Djalo1.jpg\",\n",
    "        \"C:/Users/bouaz/Downloads/Djalo2.jpg\",\n",
    "    ],\n",
    "    save_log=True\n",
    ")\n",
    "sample_results.append({\n",
    "    \"player\": \"Gonçalo Inácio\",\n",
    "    \"similarity\": result[\"similarity_score\"],\n",
    "    \"verified\": result[\"verified\"],\n",
    "    \"ground_truth\": False\n",
    "})\n",
    "print(result)\n",
    "\n",
    "# Verify Zeki Celik\n",
    "result = verifier.verify_player_identity(\n",
    "    \"Zeki Celik\",\n",
    "    [\n",
    "        \"C:/Users/bouaz/Downloads/Soyuncu.jpg\",\n",
    "        \"C:/Users/bouaz/Downloads/Soyuncu1.jpg\",\n",
    "        \"C:/Users/bouaz/Downloads/Soyuncu2.jpg\",\n",
    "    ],\n",
    "    save_log=True\n",
    ")\n",
    "sample_results.append({\n",
    "    \"player\": \"Zeki Celik\",\n",
    "    \"similarity\": result[\"similarity_score\"],\n",
    "    \"verified\": result[\"verified\"],\n",
    "    \"ground_truth\": False\n",
    "})\n",
    "print(result)\n",
    "\n",
    "# Verify Cody Gakpo\n",
    "result = verifier.verify_player_identity(\n",
    "    \"Cody Gakpo\",\n",
    "    [\n",
    "        \"C:/Users/bouaz/Downloads/Mateta.jpg\",\n",
    "        \"C:/Users/bouaz/Downloads/Mateta1.jpg\",\n",
    "        \"C:/Users/bouaz/Downloads/Mateta2.jpg\",\n",
    "    ],\n",
    "    save_log=True\n",
    ")\n",
    "sample_results.append({\n",
    "    \"player\": \"Cody Gakpo\",\n",
    "    \"similarity\": result[\"similarity_score\"],\n",
    "    \"verified\": result[\"verified\"],\n",
    "    \"ground_truth\": False\n",
    "})\n",
    "print(result)\n",
    "\n",
    "# Verify Donyell Malen\n",
    "result = verifier.verify_player_identity(\n",
    "    \"Donyell Malen\",\n",
    "    [\n",
    "        \"C:/Users/bouaz/Downloads/Boadu.jpg\",\n",
    "        \"C:/Users/bouaz/Downloads/Boadu1.jpg\",\n",
    "        \"C:/Users/bouaz/Downloads/Boadu2.jpg\",\n",
    "    ],\n",
    "    save_log=True\n",
    ")\n",
    "sample_results.append({\n",
    "    \"player\": \"Donyell Malen\",\n",
    "    \"similarity\": result[\"similarity_score\"],\n",
    "    \"verified\": result[\"verified\"],\n",
    "    \"ground_truth\": False\n",
    "})\n",
    "print(result)\n",
    "\n",
    "# Verify Luca Netz\n",
    "result = verifier.verify_player_identity(\n",
    "    \"Luca Netz\",\n",
    "    [\n",
    "        \"C:/Users/bouaz/Downloads/Raum.jpg\",\n",
    "        \"C:/Users/bouaz/Downloads/Raum1.jpg\",\n",
    "        \"C:/Users/bouaz/Downloads/Raum2.jpg\",\n",
    "    ],\n",
    "    save_log=True\n",
    ")\n",
    "sample_results.append({\n",
    "    \"player\": \"Luca Netz\",\n",
    "    \"similarity\": result[\"similarity_score\"],\n",
    "    \"verified\": result[\"verified\"],\n",
    "    \"ground_truth\": False\n",
    "})\n",
    "print(result)\n",
    "\n",
    "# Verify Josip Stanisic\n",
    "result = verifier.verify_player_identity(\n",
    "    \"Josip Stanisic\",\n",
    "    [\n",
    "        \"C:/Users/bouaz/Downloads/Sosa.jpg\",\n",
    "        \"C:/Users/bouaz/Downloads/Sosa1.jpg\",\n",
    "        \"C:/Users/bouaz/Downloads/Sosa2.jpg\",\n",
    "    ],\n",
    "    save_log=True\n",
    ")\n",
    "sample_results.append({\n",
    "    \"player\": \"Josip Stanisic\",\n",
    "    \"similarity\": result[\"similarity_score\"],\n",
    "    \"verified\": result[\"verified\"],\n",
    "    \"ground_truth\": False\n",
    "})\n",
    "print(result)"
   ]
  },
  {
   "cell_type": "markdown",
   "id": "2d3befbe-84b4-4483-a18c-a50c8768283a",
   "metadata": {},
   "source": [
    "#  Save combined data"
   ]
  },
  {
   "cell_type": "code",
   "execution_count": 24,
   "id": "00cfa395-177e-4b9d-8005-98bf73f33d1c",
   "metadata": {},
   "outputs": [
    {
     "name": "stdout",
     "output_type": "stream",
     "text": [
      "✅ Appended results to existing file at C:\\Users\\bouaz\\Downloads\\verification_results1.csv\n"
     ]
    }
   ],
   "source": [
    "import os\n",
    "import pandas as pd\n",
    "\n",
    "# Suppose your results are in this list\n",
    "# sample_results = [...]  # your list of dicts\n",
    "\n",
    "# 1. Get the Downloads folder\n",
    "downloads_folder = os.path.join(os.path.expanduser(\"~\"), \"Downloads\")\n",
    "\n",
    "# 2. Define the output file path\n",
    "csv_output_file = os.path.join(downloads_folder, \"verification_results1.csv\")\n",
    "\n",
    "# 3. Create the DataFrame from current session\n",
    "df_new = pd.DataFrame(sample_results)\n",
    "\n",
    "# 4. Check if the file already exists\n",
    "if os.path.exists(csv_output_file):\n",
    "    # 4.a If file exists, load existing data\n",
    "    df_existing = pd.read_csv(csv_output_file)\n",
    "\n",
    "    # 4.b Append new data to existing\n",
    "    df_combined = pd.concat([df_existing, df_new], ignore_index=True)\n",
    "\n",
    "    # 4.c Save combined data\n",
    "    df_combined.to_csv(csv_output_file, index=False, encoding=\"utf-8-sig\")\n",
    "    print(f\"✅ Appended results to existing file at {csv_output_file}\")\n",
    "\n",
    "else:\n",
    "    # 4.d If file doesn't exist, create it\n",
    "    df_new.to_csv(csv_output_file, index=False, encoding=\"utf-8-sig\")\n",
    "    print(f\"✅ Created new results file at {csv_output_file}\")\n",
    "\n"
   ]
  },
  {
   "cell_type": "code",
   "execution_count": 38,
   "id": "f7df8af9-af6a-42a3-98aa-bf1929f3f568",
   "metadata": {},
   "outputs": [
    {
     "name": "stdout",
     "output_type": "stream",
     "text": [
      "Applied providers: ['CPUExecutionProvider'], with options: {'CPUExecutionProvider': {}}\n",
      "find model: C:\\Users\\bouaz/.insightface\\models\\buffalo_l\\1k3d68.onnx landmark_3d_68 ['None', 3, 192, 192] 0.0 1.0\n",
      "Applied providers: ['CPUExecutionProvider'], with options: {'CPUExecutionProvider': {}}\n",
      "find model: C:\\Users\\bouaz/.insightface\\models\\buffalo_l\\2d106det.onnx landmark_2d_106 ['None', 3, 192, 192] 0.0 1.0\n",
      "Applied providers: ['CPUExecutionProvider'], with options: {'CPUExecutionProvider': {}}\n",
      "find model: C:\\Users\\bouaz/.insightface\\models\\buffalo_l\\det_10g.onnx detection [1, 3, '?', '?'] 127.5 128.0\n",
      "Applied providers: ['CPUExecutionProvider'], with options: {'CPUExecutionProvider': {}}\n",
      "find model: C:\\Users\\bouaz/.insightface\\models\\buffalo_l\\genderage.onnx genderage ['None', 3, 96, 96] 0.0 1.0\n",
      "Applied providers: ['CPUExecutionProvider'], with options: {'CPUExecutionProvider': {}}\n",
      "find model: C:\\Users\\bouaz/.insightface\\models\\buffalo_l\\w600k_r50.onnx recognition ['None', 3, 112, 112] 127.5 127.5\n",
      "set det-size: (640, 640)\n",
      "Verifying Benzema with selfies: ['C:\\\\Users\\\\bouaz\\\\Downloads\\\\Benzema.jpg', 'C:\\\\Users\\\\bouaz\\\\Downloads\\\\Benzema1.jpg', 'C:\\\\Users\\\\bouaz\\\\Downloads\\\\Benzema2.jpg']\n",
      "Verifying Boadu with selfies: ['C:\\\\Users\\\\bouaz\\\\Downloads\\\\Boadu.jpg', 'C:\\\\Users\\\\bouaz\\\\Downloads\\\\Boadu1.jpg', 'C:\\\\Users\\\\bouaz\\\\Downloads\\\\Boadu2.jpg']\n",
      "Verifying Bruyne with selfies: ['C:\\\\Users\\\\bouaz\\\\Downloads\\\\Bruyne.jpg', 'C:\\\\Users\\\\bouaz\\\\Downloads\\\\Bruyne1.jpg', 'C:\\\\Users\\\\bouaz\\\\Downloads\\\\Bruyne2.jpg']\n",
      "\n",
      "🔵 Please reboot your clé de connexion (Internet key) to get a new IP address.\n"
     ]
    },
    {
     "name": "stdin",
     "output_type": "stream",
     "text": [
      "🔵 Press ENTER when ready to continue... \n"
     ]
    },
    {
     "name": "stdout",
     "output_type": "stream",
     "text": [
      "✅ Continuing verification...\n",
      "\n",
      "Verifying Cucurella with selfies: ['C:\\\\Users\\\\bouaz\\\\Downloads\\\\Cucurella.jpg', 'C:\\\\Users\\\\bouaz\\\\Downloads\\\\Cucurella1.jpg', 'C:\\\\Users\\\\bouaz\\\\Downloads\\\\Cucurella2.jpg']\n",
      "Search error: HTTPSConnectionPool(host='html.duckduckgo.com', port=443): Max retries exceeded with url: /html/ (Caused by ConnectTimeoutError(<urllib3.connection.HTTPSConnection object at 0x0000013EAD0AB2F0>, 'Connection to html.duckduckgo.com timed out. (connect timeout=10)'))\n",
      "Verifying Cullen with selfies: ['C:\\\\Users\\\\bouaz\\\\Downloads\\\\Cullen.jpg', 'C:\\\\Users\\\\bouaz\\\\Downloads\\\\Cullen1.jpg', 'C:\\\\Users\\\\bouaz\\\\Downloads\\\\Cullen2.jpg']\n",
      "Search error: HTTPSConnectionPool(host='html.duckduckgo.com', port=443): Max retries exceeded with url: /html/ (Caused by ConnectTimeoutError(<urllib3.connection.HTTPSConnection object at 0x0000013EAD0E8E60>, 'Connection to html.duckduckgo.com timed out. (connect timeout=10)'))\n",
      "Verifying Dani with selfies: ['C:\\\\Users\\\\bouaz\\\\Downloads\\\\Dani García1.jpg', 'C:\\\\Users\\\\bouaz\\\\Downloads\\\\Dani García2.jpg', 'C:\\\\Users\\\\bouaz\\\\Downloads\\\\Dani García3.jpg']\n"
     ]
    },
    {
     "name": "stderr",
     "output_type": "stream",
     "text": [
      "C:\\Users\\bouaz\\anaconda3\\Lib\\site-packages\\insightface\\utils\\transform.py:68: FutureWarning: `rcond` parameter will change to the default of machine precision times ``max(M, N)`` where M and N are the input matrix dimensions.\n",
      "To use the future default and silence this warning we advise to pass `rcond=None`, to keep using the old, explicitly pass `rcond=-1`.\n",
      "  P = np.linalg.lstsq(X_homo, Y)[0].T # Affine matrix. 3 x 4\n"
     ]
    },
    {
     "name": "stdout",
     "output_type": "stream",
     "text": [
      "\n",
      "🔵 Please reboot your clé de connexion (Internet key) to get a new IP address.\n"
     ]
    },
    {
     "name": "stdin",
     "output_type": "stream",
     "text": [
      "🔵 Press ENTER when ready to continue... \n"
     ]
    },
    {
     "name": "stdout",
     "output_type": "stream",
     "text": [
      "✅ Continuing verification...\n",
      "\n",
      "Verifying David with selfies: ['C:\\\\Users\\\\bouaz\\\\Downloads\\\\David.jpg', 'C:\\\\Users\\\\bouaz\\\\Downloads\\\\David1.jpg', 'C:\\\\Users\\\\bouaz\\\\Downloads\\\\David2.jpg']\n",
      "Verifying Dijk with selfies: ['C:\\\\Users\\\\bouaz\\\\Downloads\\\\Dijk.jpg', 'C:\\\\Users\\\\bouaz\\\\Downloads\\\\Dijk1.jpg', 'C:\\\\Users\\\\bouaz\\\\Downloads\\\\Dijk2.jpg']\n"
     ]
    },
    {
     "name": "stderr",
     "output_type": "stream",
     "text": [
      "C:\\Users\\bouaz\\anaconda3\\Lib\\site-packages\\insightface\\utils\\transform.py:68: FutureWarning: `rcond` parameter will change to the default of machine precision times ``max(M, N)`` where M and N are the input matrix dimensions.\n",
      "To use the future default and silence this warning we advise to pass `rcond=None`, to keep using the old, explicitly pass `rcond=-1`.\n",
      "  P = np.linalg.lstsq(X_homo, Y)[0].T # Affine matrix. 3 x 4\n"
     ]
    },
    {
     "name": "stdout",
     "output_type": "stream",
     "text": [
      "Verifying Djalo with selfies: ['C:\\\\Users\\\\bouaz\\\\Downloads\\\\Djalo.jpg', 'C:\\\\Users\\\\bouaz\\\\Downloads\\\\Djalo1.jpg', 'C:\\\\Users\\\\bouaz\\\\Downloads\\\\Djalo2.jpg']\n"
     ]
    },
    {
     "name": "stderr",
     "output_type": "stream",
     "text": [
      "C:\\Users\\bouaz\\anaconda3\\Lib\\site-packages\\insightface\\utils\\transform.py:68: FutureWarning: `rcond` parameter will change to the default of machine precision times ``max(M, N)`` where M and N are the input matrix dimensions.\n",
      "To use the future default and silence this warning we advise to pass `rcond=None`, to keep using the old, explicitly pass `rcond=-1`.\n",
      "  P = np.linalg.lstsq(X_homo, Y)[0].T # Affine matrix. 3 x 4\n"
     ]
    },
    {
     "name": "stdout",
     "output_type": "stream",
     "text": [
      "\n",
      "🔵 Please reboot your clé de connexion (Internet key) to get a new IP address.\n"
     ]
    },
    {
     "name": "stdin",
     "output_type": "stream",
     "text": [
      "🔵 Press ENTER when ready to continue... \n"
     ]
    },
    {
     "name": "stdout",
     "output_type": "stream",
     "text": [
      "✅ Continuing verification...\n",
      "\n",
      "Verifying download with selfies: ['C:\\\\Users\\\\bouaz\\\\Downloads\\\\download (1).jpg', 'C:\\\\Users\\\\bouaz\\\\Downloads\\\\download (2).jpg', 'C:\\\\Users\\\\bouaz\\\\Downloads\\\\download (3).jpg']\n",
      "Verifying Eduardo with selfies: ['C:\\\\Users\\\\bouaz\\\\Downloads\\\\Eduardo Camavinga1.jpg', 'C:\\\\Users\\\\bouaz\\\\Downloads\\\\Eduardo Camavinga2.jpg', 'C:\\\\Users\\\\bouaz\\\\Downloads\\\\Eduardo Camavinga3.jpg']\n",
      "Verifying Fekir with selfies: ['C:\\\\Users\\\\bouaz\\\\Downloads\\\\Fekir.jpg', 'C:\\\\Users\\\\bouaz\\\\Downloads\\\\Fekir1.jpg', 'C:\\\\Users\\\\bouaz\\\\Downloads\\\\Fekir2.jpg']\n"
     ]
    },
    {
     "name": "stderr",
     "output_type": "stream",
     "text": [
      "C:\\Users\\bouaz\\anaconda3\\Lib\\site-packages\\insightface\\utils\\transform.py:68: FutureWarning: `rcond` parameter will change to the default of machine precision times ``max(M, N)`` where M and N are the input matrix dimensions.\n",
      "To use the future default and silence this warning we advise to pass `rcond=None`, to keep using the old, explicitly pass `rcond=-1`.\n",
      "  P = np.linalg.lstsq(X_homo, Y)[0].T # Affine matrix. 3 x 4\n"
     ]
    },
    {
     "name": "stdout",
     "output_type": "stream",
     "text": [
      "\n",
      "🔵 Please reboot your clé de connexion (Internet key) to get a new IP address.\n"
     ]
    },
    {
     "name": "stdin",
     "output_type": "stream",
     "text": [
      "🔵 Press ENTER when ready to continue... \n"
     ]
    },
    {
     "name": "stdout",
     "output_type": "stream",
     "text": [
      "✅ Continuing verification...\n",
      "\n",
      "Verifying Foden with selfies: ['C:\\\\Users\\\\bouaz\\\\Downloads\\\\Foden.jpg', 'C:\\\\Users\\\\bouaz\\\\Downloads\\\\Foden1.jpg', 'C:\\\\Users\\\\bouaz\\\\Downloads\\\\Foden2.jpg']\n",
      "Search error: HTTPSConnectionPool(host='html.duckduckgo.com', port=443): Max retries exceeded with url: /html/ (Caused by NameResolutionError(\"<urllib3.connection.HTTPSConnection object at 0x0000013EADC91D30>: Failed to resolve 'html.duckduckgo.com' ([Errno 11001] getaddrinfo failed)\"))\n",
      "Verifying Fofana with selfies: ['C:\\\\Users\\\\bouaz\\\\Downloads\\\\Fofana.jpg', 'C:\\\\Users\\\\bouaz\\\\Downloads\\\\Fofana1.jpg', 'C:\\\\Users\\\\bouaz\\\\Downloads\\\\Fofana2.jpg']\n"
     ]
    },
    {
     "name": "stderr",
     "output_type": "stream",
     "text": [
      "C:\\Users\\bouaz\\anaconda3\\Lib\\site-packages\\insightface\\utils\\transform.py:68: FutureWarning: `rcond` parameter will change to the default of machine precision times ``max(M, N)`` where M and N are the input matrix dimensions.\n",
      "To use the future default and silence this warning we advise to pass `rcond=None`, to keep using the old, explicitly pass `rcond=-1`.\n",
      "  P = np.linalg.lstsq(X_homo, Y)[0].T # Affine matrix. 3 x 4\n"
     ]
    },
    {
     "name": "stdout",
     "output_type": "stream",
     "text": [
      "Verifying Gedson with selfies: ['C:\\\\Users\\\\bouaz\\\\Downloads\\\\Gedson Fernandes.1jpg.jpg', 'C:\\\\Users\\\\bouaz\\\\Downloads\\\\Gedson Fernandes2.jpg', 'C:\\\\Users\\\\bouaz\\\\Downloads\\\\Gedson Fernandes3.jpg']\n"
     ]
    },
    {
     "name": "stderr",
     "output_type": "stream",
     "text": [
      "C:\\Users\\bouaz\\anaconda3\\Lib\\site-packages\\insightface\\utils\\transform.py:68: FutureWarning: `rcond` parameter will change to the default of machine precision times ``max(M, N)`` where M and N are the input matrix dimensions.\n",
      "To use the future default and silence this warning we advise to pass `rcond=None`, to keep using the old, explicitly pass `rcond=-1`.\n",
      "  P = np.linalg.lstsq(X_homo, Y)[0].T # Affine matrix. 3 x 4\n"
     ]
    },
    {
     "name": "stdout",
     "output_type": "stream",
     "text": [
      "\n",
      "🔵 Please reboot your clé de connexion (Internet key) to get a new IP address.\n"
     ]
    },
    {
     "name": "stdin",
     "output_type": "stream",
     "text": [
      "🔵 Press ENTER when ready to continue... \n"
     ]
    },
    {
     "name": "stdout",
     "output_type": "stream",
     "text": [
      "✅ Continuing verification...\n",
      "\n",
      "Verifying Giovanni with selfies: ['C:\\\\Users\\\\bouaz\\\\Downloads\\\\Giovanni Simeone1.jpg', 'C:\\\\Users\\\\bouaz\\\\Downloads\\\\Giovanni Simeone2.jpg', 'C:\\\\Users\\\\bouaz\\\\Downloads\\\\Giovanni Simeone3.jpg']\n",
      "Search error: HTTPSConnectionPool(host='html.duckduckgo.com', port=443): Max retries exceeded with url: /html/ (Caused by NameResolutionError(\"<urllib3.connection.HTTPSConnection object at 0x0000013EADA88D40>: Failed to resolve 'html.duckduckgo.com' ([Errno 11001] getaddrinfo failed)\"))\n",
      "Verifying Gouiri with selfies: ['C:\\\\Users\\\\bouaz\\\\Downloads\\\\Gouiri.jpg', 'C:\\\\Users\\\\bouaz\\\\Downloads\\\\Gouiri1.jpg', 'C:\\\\Users\\\\bouaz\\\\Downloads\\\\Gouiri2.jpg']\n",
      "Search error: HTTPSConnectionPool(host='html.duckduckgo.com', port=443): Max retries exceeded with url: /html/ (Caused by NameResolutionError(\"<urllib3.connection.HTTPSConnection object at 0x0000013EADA89640>: Failed to resolve 'html.duckduckgo.com' ([Errno 11001] getaddrinfo failed)\"))\n",
      "Verifying Haaland with selfies: ['C:\\\\Users\\\\bouaz\\\\Downloads\\\\Haaland.jpg', 'C:\\\\Users\\\\bouaz\\\\Downloads\\\\Haaland1.jpg', 'C:\\\\Users\\\\bouaz\\\\Downloads\\\\Haaland2.jpg']\n",
      "Search error: HTTPSConnectionPool(host='html.duckduckgo.com', port=443): Max retries exceeded with url: /html/ (Caused by NameResolutionError(\"<urllib3.connection.HTTPSConnection object at 0x0000013EADA89E50>: Failed to resolve 'html.duckduckgo.com' ([Errno 11001] getaddrinfo failed)\"))\n",
      "\n",
      "🔵 Please reboot your clé de connexion (Internet key) to get a new IP address.\n"
     ]
    },
    {
     "name": "stdin",
     "output_type": "stream",
     "text": [
      "🔵 Press ENTER when ready to continue... \n"
     ]
    },
    {
     "name": "stdout",
     "output_type": "stream",
     "text": [
      "✅ Continuing verification...\n",
      "\n",
      "Verifying Harit with selfies: ['C:\\\\Users\\\\bouaz\\\\Downloads\\\\Harit.jpg', 'C:\\\\Users\\\\bouaz\\\\Downloads\\\\Harit1.jpg', 'C:\\\\Users\\\\bouaz\\\\Downloads\\\\Harit2.jpg']\n"
     ]
    },
    {
     "name": "stderr",
     "output_type": "stream",
     "text": [
      "C:\\Users\\bouaz\\anaconda3\\Lib\\site-packages\\insightface\\utils\\transform.py:68: FutureWarning: `rcond` parameter will change to the default of machine precision times ``max(M, N)`` where M and N are the input matrix dimensions.\n",
      "To use the future default and silence this warning we advise to pass `rcond=None`, to keep using the old, explicitly pass `rcond=-1`.\n",
      "  P = np.linalg.lstsq(X_homo, Y)[0].T # Affine matrix. 3 x 4\n"
     ]
    },
    {
     "name": "stdout",
     "output_type": "stream",
     "text": [
      "Verifying Joe with selfies: ['C:\\\\Users\\\\bouaz\\\\Downloads\\\\Joe.jpg', 'C:\\\\Users\\\\bouaz\\\\Downloads\\\\Joe1.jpg', 'C:\\\\Users\\\\bouaz\\\\Downloads\\\\Joe2.jpg']\n"
     ]
    },
    {
     "name": "stderr",
     "output_type": "stream",
     "text": [
      "C:\\Users\\bouaz\\anaconda3\\Lib\\site-packages\\insightface\\utils\\transform.py:68: FutureWarning: `rcond` parameter will change to the default of machine precision times ``max(M, N)`` where M and N are the input matrix dimensions.\n",
      "To use the future default and silence this warning we advise to pass `rcond=None`, to keep using the old, explicitly pass `rcond=-1`.\n",
      "  P = np.linalg.lstsq(X_homo, Y)[0].T # Affine matrix. 3 x 4\n"
     ]
    },
    {
     "name": "stdout",
     "output_type": "stream",
     "text": [
      "Verifying Jude with selfies: ['C:\\\\Users\\\\bouaz\\\\Downloads\\\\Jude.jpg', 'C:\\\\Users\\\\bouaz\\\\Downloads\\\\Jude1.jpg', 'C:\\\\Users\\\\bouaz\\\\Downloads\\\\Jude2.jpg']\n"
     ]
    },
    {
     "name": "stderr",
     "output_type": "stream",
     "text": [
      "C:\\Users\\bouaz\\anaconda3\\Lib\\site-packages\\insightface\\utils\\transform.py:68: FutureWarning: `rcond` parameter will change to the default of machine precision times ``max(M, N)`` where M and N are the input matrix dimensions.\n",
      "To use the future default and silence this warning we advise to pass `rcond=None`, to keep using the old, explicitly pass `rcond=-1`.\n",
      "  P = np.linalg.lstsq(X_homo, Y)[0].T # Affine matrix. 3 x 4\n"
     ]
    },
    {
     "name": "stdout",
     "output_type": "stream",
     "text": [
      "\n",
      "🔵 Please reboot your clé de connexion (Internet key) to get a new IP address.\n"
     ]
    },
    {
     "name": "stdin",
     "output_type": "stream",
     "text": [
      "🔵 Press ENTER when ready to continue... \n"
     ]
    },
    {
     "name": "stdout",
     "output_type": "stream",
     "text": [
      "✅ Continuing verification...\n",
      "\n",
      "Verifying J with selfies: ['C:\\\\Users\\\\bouaz\\\\Downloads\\\\Júnior.jpg', 'C:\\\\Users\\\\bouaz\\\\Downloads\\\\Júnior1.jpg', 'C:\\\\Users\\\\bouaz\\\\Downloads\\\\Júnior2.jpg']\n"
     ]
    },
    {
     "name": "stderr",
     "output_type": "stream",
     "text": [
      "C:\\Users\\bouaz\\anaconda3\\Lib\\site-packages\\insightface\\utils\\transform.py:68: FutureWarning: `rcond` parameter will change to the default of machine precision times ``max(M, N)`` where M and N are the input matrix dimensions.\n",
      "To use the future default and silence this warning we advise to pass `rcond=None`, to keep using the old, explicitly pass `rcond=-1`.\n",
      "  P = np.linalg.lstsq(X_homo, Y)[0].T # Affine matrix. 3 x 4\n"
     ]
    },
    {
     "name": "stdout",
     "output_type": "stream",
     "text": [
      "Verifying Kane with selfies: ['C:\\\\Users\\\\bouaz\\\\Downloads\\\\Kane.jpg', 'C:\\\\Users\\\\bouaz\\\\Downloads\\\\Kane1.jpg', 'C:\\\\Users\\\\bouaz\\\\Downloads\\\\Kane2.jpg']\n",
      "Verifying kounde with selfies: ['C:\\\\Users\\\\bouaz\\\\Downloads\\\\kounde.jpg', 'C:\\\\Users\\\\bouaz\\\\Downloads\\\\kounde1.jpg', 'C:\\\\Users\\\\bouaz\\\\Downloads\\\\kounde2.jpg']\n",
      "\n",
      "🔵 Please reboot your clé de connexion (Internet key) to get a new IP address.\n"
     ]
    },
    {
     "name": "stdin",
     "output_type": "stream",
     "text": [
      "🔵 Press ENTER when ready to continue... \n"
     ]
    },
    {
     "name": "stdout",
     "output_type": "stream",
     "text": [
      "✅ Continuing verification...\n",
      "\n",
      "Verifying Lacroix with selfies: ['C:\\\\Users\\\\bouaz\\\\Downloads\\\\Lacroix.jpg', 'C:\\\\Users\\\\bouaz\\\\Downloads\\\\Lacroix1.jpg', 'C:\\\\Users\\\\bouaz\\\\Downloads\\\\Lacroix2.jpg']\n",
      "Verifying lamin with selfies: ['C:\\\\Users\\\\bouaz\\\\Downloads\\\\lamin.jpg', 'C:\\\\Users\\\\bouaz\\\\Downloads\\\\lamin1.jpg', 'C:\\\\Users\\\\bouaz\\\\Downloads\\\\lamin2.jpg']\n"
     ]
    },
    {
     "name": "stderr",
     "output_type": "stream",
     "text": [
      "C:\\Users\\bouaz\\anaconda3\\Lib\\site-packages\\insightface\\utils\\transform.py:68: FutureWarning: `rcond` parameter will change to the default of machine precision times ``max(M, N)`` where M and N are the input matrix dimensions.\n",
      "To use the future default and silence this warning we advise to pass `rcond=None`, to keep using the old, explicitly pass `rcond=-1`.\n",
      "  P = np.linalg.lstsq(X_homo, Y)[0].T # Affine matrix. 3 x 4\n"
     ]
    },
    {
     "name": "stdout",
     "output_type": "stream",
     "text": [
      "Verifying lewa with selfies: ['C:\\\\Users\\\\bouaz\\\\Downloads\\\\lewa.jpg', 'C:\\\\Users\\\\bouaz\\\\Downloads\\\\lewa1.jpg', 'C:\\\\Users\\\\bouaz\\\\Downloads\\\\lewa2.jpg']\n"
     ]
    },
    {
     "name": "stderr",
     "output_type": "stream",
     "text": [
      "C:\\Users\\bouaz\\anaconda3\\Lib\\site-packages\\insightface\\utils\\transform.py:68: FutureWarning: `rcond` parameter will change to the default of machine precision times ``max(M, N)`` where M and N are the input matrix dimensions.\n",
      "To use the future default and silence this warning we advise to pass `rcond=None`, to keep using the old, explicitly pass `rcond=-1`.\n",
      "  P = np.linalg.lstsq(X_homo, Y)[0].T # Affine matrix. 3 x 4\n"
     ]
    },
    {
     "name": "stdout",
     "output_type": "stream",
     "text": [
      "\n",
      "🔵 Please reboot your clé de connexion (Internet key) to get a new IP address.\n"
     ]
    },
    {
     "name": "stdin",
     "output_type": "stream",
     "text": [
      "🔵 Press ENTER when ready to continue... \n"
     ]
    },
    {
     "name": "stdout",
     "output_type": "stream",
     "text": [
      "✅ Continuing verification...\n",
      "\n",
      "Verifying Magno with selfies: ['C:\\\\Users\\\\bouaz\\\\Downloads\\\\Magno.jpg', 'C:\\\\Users\\\\bouaz\\\\Downloads\\\\Magno1.jpg', 'C:\\\\Users\\\\bouaz\\\\Downloads\\\\Magno2.jpg']\n"
     ]
    },
    {
     "name": "stderr",
     "output_type": "stream",
     "text": [
      "C:\\Users\\bouaz\\anaconda3\\Lib\\site-packages\\insightface\\utils\\transform.py:68: FutureWarning: `rcond` parameter will change to the default of machine precision times ``max(M, N)`` where M and N are the input matrix dimensions.\n",
      "To use the future default and silence this warning we advise to pass `rcond=None`, to keep using the old, explicitly pass `rcond=-1`.\n",
      "  P = np.linalg.lstsq(X_homo, Y)[0].T # Affine matrix. 3 x 4\n"
     ]
    },
    {
     "name": "stdout",
     "output_type": "stream",
     "text": [
      "Verifying Mane with selfies: ['C:\\\\Users\\\\bouaz\\\\Downloads\\\\Mane.jpg', 'C:\\\\Users\\\\bouaz\\\\Downloads\\\\Mane1.jpg', 'C:\\\\Users\\\\bouaz\\\\Downloads\\\\Mane2.jpg']\n"
     ]
    },
    {
     "name": "stderr",
     "output_type": "stream",
     "text": [
      "C:\\Users\\bouaz\\anaconda3\\Lib\\site-packages\\insightface\\utils\\transform.py:68: FutureWarning: `rcond` parameter will change to the default of machine precision times ``max(M, N)`` where M and N are the input matrix dimensions.\n",
      "To use the future default and silence this warning we advise to pass `rcond=None`, to keep using the old, explicitly pass `rcond=-1`.\n",
      "  P = np.linalg.lstsq(X_homo, Y)[0].T # Affine matrix. 3 x 4\n"
     ]
    },
    {
     "name": "stdout",
     "output_type": "stream",
     "text": [
      "Verifying Mateta with selfies: ['C:\\\\Users\\\\bouaz\\\\Downloads\\\\Mateta.jpg', 'C:\\\\Users\\\\bouaz\\\\Downloads\\\\Mateta1.jpg', 'C:\\\\Users\\\\bouaz\\\\Downloads\\\\Mateta2.jpg']\n"
     ]
    },
    {
     "name": "stderr",
     "output_type": "stream",
     "text": [
      "C:\\Users\\bouaz\\anaconda3\\Lib\\site-packages\\insightface\\utils\\transform.py:68: FutureWarning: `rcond` parameter will change to the default of machine precision times ``max(M, N)`` where M and N are the input matrix dimensions.\n",
      "To use the future default and silence this warning we advise to pass `rcond=None`, to keep using the old, explicitly pass `rcond=-1`.\n",
      "  P = np.linalg.lstsq(X_homo, Y)[0].T # Affine matrix. 3 x 4\n"
     ]
    },
    {
     "name": "stdout",
     "output_type": "stream",
     "text": [
      "\n",
      "🔵 Please reboot your clé de connexion (Internet key) to get a new IP address.\n"
     ]
    },
    {
     "name": "stdin",
     "output_type": "stream",
     "text": [
      "🔵 Press ENTER when ready to continue... \n"
     ]
    },
    {
     "name": "stdout",
     "output_type": "stream",
     "text": [
      "✅ Continuing verification...\n",
      "\n",
      "Verifying mbappe with selfies: ['C:\\\\Users\\\\bouaz\\\\Downloads\\\\mbappe.jpg', 'C:\\\\Users\\\\bouaz\\\\Downloads\\\\mbappe1.jpg', 'C:\\\\Users\\\\bouaz\\\\Downloads\\\\mbappe2.jpg']\n",
      "Verifying Mbeumo with selfies: ['C:\\\\Users\\\\bouaz\\\\Downloads\\\\Mbeumo.jpg', 'C:\\\\Users\\\\bouaz\\\\Downloads\\\\Mbeumo1.jpg', 'C:\\\\Users\\\\bouaz\\\\Downloads\\\\Mbeumo2.jpg']\n"
     ]
    },
    {
     "name": "stderr",
     "output_type": "stream",
     "text": [
      "C:\\Users\\bouaz\\anaconda3\\Lib\\site-packages\\insightface\\utils\\transform.py:68: FutureWarning: `rcond` parameter will change to the default of machine precision times ``max(M, N)`` where M and N are the input matrix dimensions.\n",
      "To use the future default and silence this warning we advise to pass `rcond=None`, to keep using the old, explicitly pass `rcond=-1`.\n",
      "  P = np.linalg.lstsq(X_homo, Y)[0].T # Affine matrix. 3 x 4\n"
     ]
    },
    {
     "name": "stdout",
     "output_type": "stream",
     "text": [
      "Verifying Mendes with selfies: ['C:\\\\Users\\\\bouaz\\\\Downloads\\\\Mendes.jpg', 'C:\\\\Users\\\\bouaz\\\\Downloads\\\\Mendes1.jpg', 'C:\\\\Users\\\\bouaz\\\\Downloads\\\\Mendes2.jpg']\n"
     ]
    },
    {
     "name": "stderr",
     "output_type": "stream",
     "text": [
      "C:\\Users\\bouaz\\anaconda3\\Lib\\site-packages\\insightface\\utils\\transform.py:68: FutureWarning: `rcond` parameter will change to the default of machine precision times ``max(M, N)`` where M and N are the input matrix dimensions.\n",
      "To use the future default and silence this warning we advise to pass `rcond=None`, to keep using the old, explicitly pass `rcond=-1`.\n",
      "  P = np.linalg.lstsq(X_homo, Y)[0].T # Affine matrix. 3 x 4\n"
     ]
    },
    {
     "name": "stdout",
     "output_type": "stream",
     "text": [
      "\n",
      "🔵 Please reboot your clé de connexion (Internet key) to get a new IP address.\n"
     ]
    },
    {
     "name": "stdin",
     "output_type": "stream",
     "text": [
      "🔵 Press ENTER when ready to continue... \n"
     ]
    },
    {
     "name": "stdout",
     "output_type": "stream",
     "text": [
      "✅ Continuing verification...\n",
      "\n",
      "Verifying Mepham with selfies: ['C:\\\\Users\\\\bouaz\\\\Downloads\\\\Mepham.jpg', 'C:\\\\Users\\\\bouaz\\\\Downloads\\\\Mepham1.jpg', 'C:\\\\Users\\\\bouaz\\\\Downloads\\\\Mepham2.jpg']\n"
     ]
    },
    {
     "name": "stderr",
     "output_type": "stream",
     "text": [
      "C:\\Users\\bouaz\\anaconda3\\Lib\\site-packages\\insightface\\utils\\transform.py:68: FutureWarning: `rcond` parameter will change to the default of machine precision times ``max(M, N)`` where M and N are the input matrix dimensions.\n",
      "To use the future default and silence this warning we advise to pass `rcond=None`, to keep using the old, explicitly pass `rcond=-1`.\n",
      "  P = np.linalg.lstsq(X_homo, Y)[0].T # Affine matrix. 3 x 4\n"
     ]
    },
    {
     "name": "stdout",
     "output_type": "stream",
     "text": [
      "Verifying messi with selfies: ['C:\\\\Users\\\\bouaz\\\\Downloads\\\\messi.jpg', 'C:\\\\Users\\\\bouaz\\\\Downloads\\\\messi1.jpg', 'C:\\\\Users\\\\bouaz\\\\Downloads\\\\messi2.jpg']\n",
      "Verifying Milik with selfies: ['C:\\\\Users\\\\bouaz\\\\Downloads\\\\Milik.jpg', 'C:\\\\Users\\\\bouaz\\\\Downloads\\\\Milik1.jpg', 'C:\\\\Users\\\\bouaz\\\\Downloads\\\\Milik2.jpg']\n",
      "\n",
      "🔵 Please reboot your clé de connexion (Internet key) to get a new IP address.\n"
     ]
    },
    {
     "name": "stdin",
     "output_type": "stream",
     "text": [
      "🔵 Press ENTER when ready to continue... \n"
     ]
    },
    {
     "name": "stdout",
     "output_type": "stream",
     "text": [
      "✅ Continuing verification...\n",
      "\n",
      "Verifying modric with selfies: ['C:\\\\Users\\\\bouaz\\\\Downloads\\\\modric.jpg', 'C:\\\\Users\\\\bouaz\\\\Downloads\\\\modric1.jpg', 'C:\\\\Users\\\\bouaz\\\\Downloads\\\\modric2.jpg']\n",
      "Verifying neymar with selfies: ['C:\\\\Users\\\\bouaz\\\\Downloads\\\\neymar.jpg', 'C:\\\\Users\\\\bouaz\\\\Downloads\\\\neymar1.jpg', 'C:\\\\Users\\\\bouaz\\\\Downloads\\\\neymar2.jpg']\n",
      "Verifying Oscar with selfies: ['C:\\\\Users\\\\bouaz\\\\Downloads\\\\Oscar (ex-Chelsea)1.jpg', 'C:\\\\Users\\\\bouaz\\\\Downloads\\\\Oscar (ex-Chelsea)2.jpg', 'C:\\\\Users\\\\bouaz\\\\Downloads\\\\Oscar (ex-Chelsea)3.jpg']\n",
      "\n",
      "🔵 Please reboot your clé de connexion (Internet key) to get a new IP address.\n"
     ]
    },
    {
     "name": "stdin",
     "output_type": "stream",
     "text": [
      "🔵 Press ENTER when ready to continue... \n"
     ]
    },
    {
     "name": "stdout",
     "output_type": "stream",
     "text": [
      "✅ Continuing verification...\n",
      "\n",
      "Verifying Pablo with selfies: ['C:\\\\Users\\\\bouaz\\\\Downloads\\\\Pablo Fornals1.jpg', 'C:\\\\Users\\\\bouaz\\\\Downloads\\\\Pablo Fornals2.jpg', 'C:\\\\Users\\\\bouaz\\\\Downloads\\\\Pablo Fornals3.jpg']\n"
     ]
    },
    {
     "name": "stderr",
     "output_type": "stream",
     "text": [
      "C:\\Users\\bouaz\\anaconda3\\Lib\\site-packages\\insightface\\utils\\transform.py:68: FutureWarning: `rcond` parameter will change to the default of machine precision times ``max(M, N)`` where M and N are the input matrix dimensions.\n",
      "To use the future default and silence this warning we advise to pass `rcond=None`, to keep using the old, explicitly pass `rcond=-1`.\n",
      "  P = np.linalg.lstsq(X_homo, Y)[0].T # Affine matrix. 3 x 4\n"
     ]
    },
    {
     "name": "stdout",
     "output_type": "stream",
     "text": [
      "Verifying Patrik with selfies: ['C:\\\\Users\\\\bouaz\\\\Downloads\\\\Patrik Schick1.jpg', 'C:\\\\Users\\\\bouaz\\\\Downloads\\\\Patrik Schick2.jpg', 'C:\\\\Users\\\\bouaz\\\\Downloads\\\\Patrik Schick3.jpg']\n"
     ]
    },
    {
     "name": "stderr",
     "output_type": "stream",
     "text": [
      "C:\\Users\\bouaz\\anaconda3\\Lib\\site-packages\\insightface\\utils\\transform.py:68: FutureWarning: `rcond` parameter will change to the default of machine precision times ``max(M, N)`` where M and N are the input matrix dimensions.\n",
      "To use the future default and silence this warning we advise to pass `rcond=None`, to keep using the old, explicitly pass `rcond=-1`.\n",
      "  P = np.linalg.lstsq(X_homo, Y)[0].T # Affine matrix. 3 x 4\n"
     ]
    },
    {
     "name": "stdout",
     "output_type": "stream",
     "text": [
      "Verifying Paul with selfies: ['C:\\\\Users\\\\bouaz\\\\Downloads\\\\Paul.jpg', 'C:\\\\Users\\\\bouaz\\\\Downloads\\\\Paul1.jpg', 'C:\\\\Users\\\\bouaz\\\\Downloads\\\\Paul2.jpg']\n"
     ]
    },
    {
     "name": "stderr",
     "output_type": "stream",
     "text": [
      "C:\\Users\\bouaz\\anaconda3\\Lib\\site-packages\\insightface\\utils\\transform.py:68: FutureWarning: `rcond` parameter will change to the default of machine precision times ``max(M, N)`` where M and N are the input matrix dimensions.\n",
      "To use the future default and silence this warning we advise to pass `rcond=None`, to keep using the old, explicitly pass `rcond=-1`.\n",
      "  P = np.linalg.lstsq(X_homo, Y)[0].T # Affine matrix. 3 x 4\n"
     ]
    },
    {
     "name": "stdout",
     "output_type": "stream",
     "text": [
      "\n",
      "🔵 Please reboot your clé de connexion (Internet key) to get a new IP address.\n"
     ]
    },
    {
     "name": "stdin",
     "output_type": "stream",
     "text": [
      "🔵 Press ENTER when ready to continue... \n"
     ]
    },
    {
     "name": "stdout",
     "output_type": "stream",
     "text": [
      "✅ Continuing verification...\n",
      "\n",
      "Verifying Presnel with selfies: ['C:\\\\Users\\\\bouaz\\\\Downloads\\\\Presnel Kimpembe1.jpg', 'C:\\\\Users\\\\bouaz\\\\Downloads\\\\Presnel Kimpembe2.jpg', 'C:\\\\Users\\\\bouaz\\\\Downloads\\\\Presnel Kimpembe3.jpg']\n"
     ]
    },
    {
     "name": "stderr",
     "output_type": "stream",
     "text": [
      "C:\\Users\\bouaz\\anaconda3\\Lib\\site-packages\\insightface\\utils\\transform.py:68: FutureWarning: `rcond` parameter will change to the default of machine precision times ``max(M, N)`` where M and N are the input matrix dimensions.\n",
      "To use the future default and silence this warning we advise to pass `rcond=None`, to keep using the old, explicitly pass `rcond=-1`.\n",
      "  P = np.linalg.lstsq(X_homo, Y)[0].T # Affine matrix. 3 x 4\n"
     ]
    },
    {
     "name": "stdout",
     "output_type": "stream",
     "text": [
      "Verifying random with selfies: ['C:\\\\Users\\\\bouaz\\\\Downloads\\\\random person1.jpg', 'C:\\\\Users\\\\bouaz\\\\Downloads\\\\random person2.jpg', 'C:\\\\Users\\\\bouaz\\\\Downloads\\\\random person3.jpg']\n",
      "Verifying Raum with selfies: ['C:\\\\Users\\\\bouaz\\\\Downloads\\\\Raum.jpg', 'C:\\\\Users\\\\bouaz\\\\Downloads\\\\Raum1.jpg', 'C:\\\\Users\\\\bouaz\\\\Downloads\\\\Raum2.jpg']\n"
     ]
    },
    {
     "name": "stderr",
     "output_type": "stream",
     "text": [
      "C:\\Users\\bouaz\\anaconda3\\Lib\\site-packages\\insightface\\utils\\transform.py:68: FutureWarning: `rcond` parameter will change to the default of machine precision times ``max(M, N)`` where M and N are the input matrix dimensions.\n",
      "To use the future default and silence this warning we advise to pass `rcond=None`, to keep using the old, explicitly pass `rcond=-1`.\n",
      "  P = np.linalg.lstsq(X_homo, Y)[0].T # Affine matrix. 3 x 4\n"
     ]
    },
    {
     "name": "stdout",
     "output_type": "stream",
     "text": [
      "\n",
      "🔵 Please reboot your clé de connexion (Internet key) to get a new IP address.\n"
     ]
    },
    {
     "name": "stdin",
     "output_type": "stream",
     "text": [
      "🔵 Press ENTER when ready to continue... \n"
     ]
    },
    {
     "name": "stdout",
     "output_type": "stream",
     "text": [
      "✅ Continuing verification...\n",
      "\n",
      "Verifying Rodrigo with selfies: ['C:\\\\Users\\\\bouaz\\\\Downloads\\\\Rodrigo De Paul1.jpg', 'C:\\\\Users\\\\bouaz\\\\Downloads\\\\Rodrigo De Paul2.jpg', 'C:\\\\Users\\\\bouaz\\\\Downloads\\\\Rodrigo De Paul3.jpg']\n"
     ]
    },
    {
     "name": "stderr",
     "output_type": "stream",
     "text": [
      "C:\\Users\\bouaz\\anaconda3\\Lib\\site-packages\\insightface\\utils\\transform.py:68: FutureWarning: `rcond` parameter will change to the default of machine precision times ``max(M, N)`` where M and N are the input matrix dimensions.\n",
      "To use the future default and silence this warning we advise to pass `rcond=None`, to keep using the old, explicitly pass `rcond=-1`.\n",
      "  P = np.linalg.lstsq(X_homo, Y)[0].T # Affine matrix. 3 x 4\n"
     ]
    },
    {
     "name": "stdout",
     "output_type": "stream",
     "text": [
      "Verifying ronaldo with selfies: ['C:\\\\Users\\\\bouaz\\\\Downloads\\\\ronaldo.jpg', 'C:\\\\Users\\\\bouaz\\\\Downloads\\\\ronaldo1.jpg', 'C:\\\\Users\\\\bouaz\\\\Downloads\\\\ronaldo2.jpg']\n",
      "Verifying Ruben with selfies: ['C:\\\\Users\\\\bouaz\\\\Downloads\\\\Ruben.jpg', 'C:\\\\Users\\\\bouaz\\\\Downloads\\\\Ruben1.jpg', 'C:\\\\Users\\\\bouaz\\\\Downloads\\\\Ruben2.jpg']\n",
      "\n",
      "🔵 Please reboot your clé de connexion (Internet key) to get a new IP address.\n"
     ]
    },
    {
     "name": "stdin",
     "output_type": "stream",
     "text": [
      "🔵 Press ENTER when ready to continue... \n"
     ]
    },
    {
     "name": "stdout",
     "output_type": "stream",
     "text": [
      "✅ Continuing verification...\n",
      "\n",
      "Verifying Ruiz with selfies: ['C:\\\\Users\\\\bouaz\\\\Downloads\\\\Ruiz.jpg', 'C:\\\\Users\\\\bouaz\\\\Downloads\\\\Ruiz1.jpg', 'C:\\\\Users\\\\bouaz\\\\Downloads\\\\Ruiz2.jpg']\n",
      "Verifying Salah with selfies: ['C:\\\\Users\\\\bouaz\\\\Downloads\\\\Salah.jpg', 'C:\\\\Users\\\\bouaz\\\\Downloads\\\\Salah1.jpg', 'C:\\\\Users\\\\bouaz\\\\Downloads\\\\Salah2.jpg']\n",
      "Verifying Samba with selfies: ['C:\\\\Users\\\\bouaz\\\\Downloads\\\\Samba.jpg', 'C:\\\\Users\\\\bouaz\\\\Downloads\\\\Samba1.jpg', 'C:\\\\Users\\\\bouaz\\\\Downloads\\\\Samba2.jpg']\n",
      "\n",
      "🔵 Please reboot your clé de connexion (Internet key) to get a new IP address.\n"
     ]
    },
    {
     "name": "stdin",
     "output_type": "stream",
     "text": [
      "🔵 Press ENTER when ready to continue... \n"
     ]
    },
    {
     "name": "stdout",
     "output_type": "stream",
     "text": [
      "✅ Continuing verification...\n",
      "\n",
      "Verifying sergio with selfies: ['C:\\\\Users\\\\bouaz\\\\Downloads\\\\sergio.jpg', 'C:\\\\Users\\\\bouaz\\\\Downloads\\\\sergio1.jpg', 'C:\\\\Users\\\\bouaz\\\\Downloads\\\\sergio2.jpg']\n",
      "Verifying Sergyo with selfies: ['C:\\\\Users\\\\bouaz\\\\Downloads\\\\Sergyo.jpg', 'C:\\\\Users\\\\bouaz\\\\Downloads\\\\Sergyo1.jpg', 'C:\\\\Users\\\\bouaz\\\\Downloads\\\\Sergyo2.jpg']\n",
      "Verifying Son with selfies: ['C:\\\\Users\\\\bouaz\\\\Downloads\\\\Son.jpg', 'C:\\\\Users\\\\bouaz\\\\Downloads\\\\Son1.jpg', 'C:\\\\Users\\\\bouaz\\\\Downloads\\\\Son2.jpg']\n",
      "\n",
      "🔵 Please reboot your clé de connexion (Internet key) to get a new IP address.\n"
     ]
    },
    {
     "name": "stdin",
     "output_type": "stream",
     "text": [
      "🔵 Press ENTER when ready to continue... \n"
     ]
    },
    {
     "name": "stdout",
     "output_type": "stream",
     "text": [
      "✅ Continuing verification...\n",
      "\n",
      "Verifying sorloth with selfies: ['C:\\\\Users\\\\bouaz\\\\Downloads\\\\sorloth.jpg', 'C:\\\\Users\\\\bouaz\\\\Downloads\\\\sorloth1.jpg', 'C:\\\\Users\\\\bouaz\\\\Downloads\\\\sorloth2.jpg']\n",
      "Verifying Sosa with selfies: ['C:\\\\Users\\\\bouaz\\\\Downloads\\\\Sosa.jpg', 'C:\\\\Users\\\\bouaz\\\\Downloads\\\\Sosa1.jpg', 'C:\\\\Users\\\\bouaz\\\\Downloads\\\\Sosa2.jpg']\n",
      "Verifying Soyuncu with selfies: ['C:\\\\Users\\\\bouaz\\\\Downloads\\\\Soyuncu.jpg', 'C:\\\\Users\\\\bouaz\\\\Downloads\\\\Soyuncu1.jpg', 'C:\\\\Users\\\\bouaz\\\\Downloads\\\\Soyuncu2.jpg']\n",
      "\n",
      "🔵 Please reboot your clé de connexion (Internet key) to get a new IP address.\n"
     ]
    },
    {
     "name": "stdin",
     "output_type": "stream",
     "text": [
      "🔵 Press ENTER when ready to continue... \n"
     ]
    },
    {
     "name": "stdout",
     "output_type": "stream",
     "text": [
      "✅ Continuing verification...\n",
      "\n",
      "Verifying Thauvin with selfies: ['C:\\\\Users\\\\bouaz\\\\Downloads\\\\Thauvin.jpg', 'C:\\\\Users\\\\bouaz\\\\Downloads\\\\Thauvin1.jpg', 'C:\\\\Users\\\\bouaz\\\\Downloads\\\\Thauvin2.jpg']\n",
      "Verifying Thomasson with selfies: ['C:\\\\Users\\\\bouaz\\\\Downloads\\\\Thomasson.jpg', 'C:\\\\Users\\\\bouaz\\\\Downloads\\\\Thomasson1.jpg', 'C:\\\\Users\\\\bouaz\\\\Downloads\\\\Thomasson2.jpg']\n",
      "Verifying Wahi with selfies: ['C:\\\\Users\\\\bouaz\\\\Downloads\\\\Wahi.jpg', 'C:\\\\Users\\\\bouaz\\\\Downloads\\\\Wahi1.jpg', 'C:\\\\Users\\\\bouaz\\\\Downloads\\\\Wahi2.jpg']\n",
      "\n",
      "🔵 Please reboot your clé de connexion (Internet key) to get a new IP address.\n"
     ]
    },
    {
     "name": "stdin",
     "output_type": "stream",
     "text": [
      "🔵 Press ENTER when ready to continue... \n"
     ]
    },
    {
     "name": "stdout",
     "output_type": "stream",
     "text": [
      "✅ Continuing verification...\n",
      "\n",
      "Verifying White with selfies: ['C:\\\\Users\\\\bouaz\\\\Downloads\\\\White.jpg', 'C:\\\\Users\\\\bouaz\\\\Downloads\\\\White1.jpg', 'C:\\\\Users\\\\bouaz\\\\Downloads\\\\White2.jpg']\n"
     ]
    },
    {
     "name": "stderr",
     "output_type": "stream",
     "text": [
      "C:\\Users\\bouaz\\anaconda3\\Lib\\site-packages\\insightface\\utils\\transform.py:68: FutureWarning: `rcond` parameter will change to the default of machine precision times ``max(M, N)`` where M and N are the input matrix dimensions.\n",
      "To use the future default and silence this warning we advise to pass `rcond=None`, to keep using the old, explicitly pass `rcond=-1`.\n",
      "  P = np.linalg.lstsq(X_homo, Y)[0].T # Affine matrix. 3 x 4\n"
     ]
    },
    {
     "name": "stdout",
     "output_type": "stream",
     "text": [
      "\n",
      "✅ All players processed. Final results saved to: C:\\Users\\bouaz\\Downloads\\final_batch_verification_results.csv\n"
     ]
    }
   ],
   "source": [
    "import os\n",
    "import re\n",
    "import csv\n",
    "import time\n",
    "from collections import defaultdict\n",
    "\n",
    "# Path to your selfies folder\n",
    "selfies_folder = r\"C:\\Users\\bouaz\\Downloads\"\n",
    "\n",
    "# Path to your CSV sheet\n",
    "csv_sheet = r\"C:\\Users\\bouaz\\Downloads\\batch_verification_results.csv\"\n",
    "\n",
    "# Initialize verification system\n",
    "verification_system = PlayerVerificationSystem()\n",
    "\n",
    "# Read player names from your CSV\n",
    "player_list = []\n",
    "with open(csv_sheet, mode=\"r\", encoding=\"utf-8\") as f:\n",
    "    reader = csv.DictReader(f)\n",
    "    for row in reader:\n",
    "        player_list.append(row[\"player\"])  # Assuming \"player\" column contains the player names\n",
    "\n",
    "# Group selfies by player name from the Downloads folder\n",
    "player_selfies = defaultdict(list)\n",
    "\n",
    "for filename in os.listdir(selfies_folder):\n",
    "    if filename.lower().endswith(\".jpg\"):\n",
    "        match = re.match(r\"([A-Za-z]+)\", filename)\n",
    "        if match:\n",
    "            player_name = match.group(1)\n",
    "            player_selfies[player_name].append(os.path.join(selfies_folder, filename))\n",
    "\n",
    "# Sort selfies for each player\n",
    "for player in player_selfies:\n",
    "    player_selfies[player] = sorted(player_selfies[player])\n",
    "\n",
    "# Prepare results\n",
    "verification_results = []\n",
    "\n",
    "# Counter for the reboot cycle\n",
    "players_processed = 0\n",
    "\n",
    "# Verify each player\n",
    "for player_name in player_list:\n",
    "    selfies = player_selfies.get(player_name)\n",
    "    \n",
    "    if selfies is None or len(selfies) < 3:\n",
    "        print(f\"Skipping {player_name}: not enough selfies available.\")\n",
    "        continue\n",
    "\n",
    "    selfies_to_use = selfies[:3]\n",
    "    print(f\"Verifying {player_name} with selfies: {selfies_to_use}\")\n",
    "\n",
    "    result = verification_system.verify_player_identity(\n",
    "        player_name=player_name,\n",
    "        selfie_paths=selfies_to_use,\n",
    "        save_log=True\n",
    "    )\n",
    "\n",
    "    verification_results.append(result)\n",
    "\n",
    "    players_processed += 1\n",
    "\n",
    "    # After every 3 players, stop and ask for reboot\n",
    "    if players_processed % 3 == 0:\n",
    "        print(\"\\n🔵 Please reboot your clé de connexion (Internet key) to get a new IP address.\")\n",
    "        input(\"🔵 Press ENTER when ready to continue...\")\n",
    "        print(\"✅ Continuing verification...\\n\")\n",
    "        time.sleep(3)  # small delay for safety\n",
    "\n",
    "# Save all results into a new CSV\n",
    "output_csv = os.path.join(selfies_folder, \"final_batch_verification_results.csv\")\n",
    "\n",
    "with open(output_csv, mode=\"w\", newline=\"\", encoding=\"utf-8\") as f:\n",
    "    writer = csv.DictWriter(f, fieldnames=[\n",
    "        \"player\", \"verified\", \"similarity_score\", \"threshold\", \"success\", \"reason\", \"official_image_url\", \"selfies_used\"\n",
    "    ])\n",
    "    writer.writeheader()\n",
    "    for res in verification_results:\n",
    "        writer.writerow({\n",
    "            \"player\": res.get(\"player\", \"\"),\n",
    "            \"verified\": res.get(\"verified\", False),\n",
    "            \"similarity_score\": res.get(\"similarity_score\", 0.0),\n",
    "            \"threshold\": res.get(\"threshold\", 0.68),\n",
    "            \"success\": res.get(\"success\", False),\n",
    "            \"reason\": res.get(\"reason\", \"\"),\n",
    "            \"official_image_url\": res.get(\"official_image_url\", \"\"),\n",
    "            \"selfies_used\": res.get(\"selfies_used\", 0)\n",
    "        })\n",
    "\n",
    "print(f\"\\n✅ All players processed. Final results saved to: {output_csv}\")\n"
   ]
  },
  {
   "cell_type": "code",
   "execution_count": 40,
   "id": "3ca8c1fe-678e-44e5-ac9c-3808e32714c1",
   "metadata": {},
   "outputs": [
    {
     "name": "stdout",
     "output_type": "stream",
     "text": [
      "✅ Filtered 25 working players into: C:\\Users\\bouaz\\Downloads\\filtered_successful_verifications.csv\n"
     ]
    }
   ],
   "source": [
    "import csv\n",
    "\n",
    "# Path to your input file\n",
    "input_csv = r\"C:\\Users\\bouaz\\Downloads\\final_batch_verification_results.csv\"\n",
    "\n",
    "# Path to save the filtered output\n",
    "output_csv = r\"C:\\Users\\bouaz\\Downloads\\filtered_successful_verifications.csv\"\n",
    "\n",
    "# Read and filter\n",
    "working_players = []\n",
    "\n",
    "with open(input_csv, mode=\"r\", encoding=\"utf-8\") as f:\n",
    "    reader = csv.DictReader(f)\n",
    "    for row in reader:\n",
    "        if (\n",
    "            row.get(\"success\", \"\").lower() == \"true\" and\n",
    "            row.get(\"selfies_used\", \"0\") != \"0\" and\n",
    "            row.get(\"official_image_url\", \"\").strip() != \"\"\n",
    "        ):\n",
    "            working_players.append(row)\n",
    "\n",
    "# Save only the working ones\n",
    "with open(output_csv, mode=\"w\", newline=\"\", encoding=\"utf-8\") as f:\n",
    "    writer = csv.DictWriter(f, fieldnames=working_players[0].keys())\n",
    "    writer.writeheader()\n",
    "    writer.writerows(working_players)\n",
    "\n",
    "print(f\"✅ Filtered {len(working_players)} working players into: {output_csv}\")\n"
   ]
  },
  {
   "cell_type": "code",
   "execution_count": null,
   "id": "490cce35-3b7b-48ed-bca6-684330a74f2a",
   "metadata": {},
   "outputs": [],
   "source": []
  }
 ],
 "metadata": {
  "kernelspec": {
   "display_name": "Python [conda env:base] *",
   "language": "python",
   "name": "conda-base-py"
  },
  "language_info": {
   "codemirror_mode": {
    "name": "ipython",
    "version": 3
   },
   "file_extension": ".py",
   "mimetype": "text/x-python",
   "name": "python",
   "nbconvert_exporter": "python",
   "pygments_lexer": "ipython3",
   "version": "3.12.7"
  }
 },
 "nbformat": 4,
 "nbformat_minor": 5
}
